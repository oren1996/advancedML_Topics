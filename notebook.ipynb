{
 "cells": [
  {
   "cell_type": "markdown",
   "metadata": {
    "id": "WxEMakEiBTl-"
   },
   "source": [
    "#Final-term exercise"
   ]
  },
  {
   "cell_type": "markdown",
   "metadata": {
    "id": "63MGm65eCjRr"
   },
   "source": [
    "#1. Load your libraries here:"
   ]
  },
  {
   "cell_type": "code",
   "execution_count": 1,
   "metadata": {
    "id": "Ug3u-V4-BWTi"
   },
   "outputs": [
    {
     "name": "stdout",
     "output_type": "stream",
     "text": [
      "Requirement already satisfied: imbalanced-learn in /Users/orenelbazis/anaconda3/envs/nlp_env/lib/python3.9/site-packages (0.12.4)\n",
      "Requirement already satisfied: numpy>=1.17.3 in /Users/orenelbazis/anaconda3/envs/nlp_env/lib/python3.9/site-packages (from imbalanced-learn) (1.26.4)\n",
      "Requirement already satisfied: scipy>=1.5.0 in /Users/orenelbazis/anaconda3/envs/nlp_env/lib/python3.9/site-packages (from imbalanced-learn) (1.11.4)\n",
      "Requirement already satisfied: scikit-learn>=1.0.2 in /Users/orenelbazis/anaconda3/envs/nlp_env/lib/python3.9/site-packages (from imbalanced-learn) (1.5.1)\n",
      "Requirement already satisfied: joblib>=1.1.1 in /Users/orenelbazis/anaconda3/envs/nlp_env/lib/python3.9/site-packages (from imbalanced-learn) (1.2.0)\n",
      "Requirement already satisfied: threadpoolctl>=2.0.0 in /Users/orenelbazis/anaconda3/envs/nlp_env/lib/python3.9/site-packages (from imbalanced-learn) (3.5.0)\n",
      "Note: you may need to restart the kernel to use updated packages.\n"
     ]
    },
    {
     "name": "stderr",
     "output_type": "stream",
     "text": [
      "2024-10-26 17:32:45.609901: I tensorflow/core/platform/cpu_feature_guard.cc:210] This TensorFlow binary is optimized to use available CPU instructions in performance-critical operations.\n",
      "To enable the following instructions: AVX2 FMA, in other operations, rebuild TensorFlow with the appropriate compiler flags.\n"
     ]
    }
   ],
   "source": [
    "#your code here:\n",
    "import pandas as pd\n",
    "import numpy as np\n",
    "import seaborn as sns\n",
    "import matplotlib.pyplot as plt\n",
    "\n",
    "# Part 3\n",
    "from sklearn.impute import SimpleImputer\n",
    "from sklearn.impute import KNNImputer\n",
    "\n",
    "# Part 4\n",
    "from sklearn.model_selection import train_test_split\n",
    "\n",
    "# Part 5\n",
    "from sklearn.preprocessing import StandardScaler\n",
    "\n",
    "# Part 6\n",
    "%pip install imbalanced-learn\n",
    "from imblearn.over_sampling import SMOTE\n",
    "\n",
    "# Part 7\n",
    "from sklearn.ensemble import RandomForestClassifier, HistGradientBoostingClassifier\n",
    "from xgboost import XGBClassifier\n",
    "from sklearn.model_selection import GridSearchCV\n",
    "from sklearn.preprocessing import LabelEncoder\n",
    "\n",
    "# Part 8\n",
    "import tensorflow as tf\n",
    "from tensorflow.keras.models import Sequential\n",
    "from tensorflow.keras.layers import Dense, Dropout\n",
    "from tensorflow.keras.optimizers import Adam\n",
    "\n",
    "# Part 9\n",
    "from sklearn.metrics import classification_report, f1_score, accuracy_score\n",
    "\n",
    "# Part 10\n",
    "from sklearn.preprocessing import MinMaxScaler\n",
    "\n",
    "# Part 11\n",
    "from sklearn.linear_model import LinearRegression\n",
    "\n",
    "# Part 12\n",
    "from sklearn.metrics import mean_squared_error, mean_absolute_error, r2_score\n",
    "\n",
    "# Part 13\n",
    "from sklearn.preprocessing import PolynomialFeatures\n",
    "from sklearn.linear_model import Lasso, Ridge\n",
    "import warnings\n",
    "warnings.filterwarnings(\"ignore\")\n",
    "\n",
    "# Part 15\n",
    "from sklearn.ensemble import RandomForestRegressor, HistGradientBoostingRegressor\n",
    "from xgboost import XGBRegressor\n",
    "\n",
    "%matplotlib inline\n"
   ]
  },
  {
   "cell_type": "markdown",
   "metadata": {
    "id": "5cHQNXM3l8L9"
   },
   "source": [
    "#Part A:"
   ]
  },
  {
   "cell_type": "markdown",
   "metadata": {
    "id": "zoS_ee5wDJDE"
   },
   "source": [
    "#Upload your data file:"
   ]
  },
  {
   "cell_type": "code",
   "execution_count": 2,
   "metadata": {
    "id": "_g0XLs7MDKQE"
   },
   "outputs": [
    {
     "data": {
      "text/html": [
       "<div>\n",
       "<style scoped>\n",
       "    .dataframe tbody tr th:only-of-type {\n",
       "        vertical-align: middle;\n",
       "    }\n",
       "\n",
       "    .dataframe tbody tr th {\n",
       "        vertical-align: top;\n",
       "    }\n",
       "\n",
       "    .dataframe thead th {\n",
       "        text-align: right;\n",
       "    }\n",
       "</style>\n",
       "<table border=\"1\" class=\"dataframe\">\n",
       "  <thead>\n",
       "    <tr style=\"text-align: right;\">\n",
       "      <th></th>\n",
       "      <th>Age</th>\n",
       "      <th>Workclass</th>\n",
       "      <th>Final Weight</th>\n",
       "      <th>Education</th>\n",
       "      <th>EducationNum</th>\n",
       "      <th>Marital Status</th>\n",
       "      <th>Occupation</th>\n",
       "      <th>Relationship</th>\n",
       "      <th>Race</th>\n",
       "      <th>Gender</th>\n",
       "      <th>Capital Gain</th>\n",
       "      <th>capital loss</th>\n",
       "      <th>Hours per Week</th>\n",
       "      <th>Native Country</th>\n",
       "      <th>Income</th>\n",
       "    </tr>\n",
       "  </thead>\n",
       "  <tbody>\n",
       "    <tr>\n",
       "      <th>0</th>\n",
       "      <td>39</td>\n",
       "      <td>State-gov</td>\n",
       "      <td>77516</td>\n",
       "      <td>Bachelors</td>\n",
       "      <td>13</td>\n",
       "      <td>Never-married</td>\n",
       "      <td>Adm-clerical</td>\n",
       "      <td>Not-in-family</td>\n",
       "      <td>White</td>\n",
       "      <td>Male</td>\n",
       "      <td>2174</td>\n",
       "      <td>0</td>\n",
       "      <td>40</td>\n",
       "      <td>United-States</td>\n",
       "      <td>&lt;=50K</td>\n",
       "    </tr>\n",
       "    <tr>\n",
       "      <th>1</th>\n",
       "      <td>50</td>\n",
       "      <td>Self-emp-not-inc</td>\n",
       "      <td>83311</td>\n",
       "      <td>Bachelors</td>\n",
       "      <td>13</td>\n",
       "      <td>Married-civ-spouse</td>\n",
       "      <td>Exec-managerial</td>\n",
       "      <td>Husband</td>\n",
       "      <td>White</td>\n",
       "      <td>Male</td>\n",
       "      <td>0</td>\n",
       "      <td>0</td>\n",
       "      <td>13</td>\n",
       "      <td>United-States</td>\n",
       "      <td>&lt;=50K</td>\n",
       "    </tr>\n",
       "    <tr>\n",
       "      <th>2</th>\n",
       "      <td>38</td>\n",
       "      <td>Private</td>\n",
       "      <td>215646</td>\n",
       "      <td>HS-grad</td>\n",
       "      <td>9</td>\n",
       "      <td>Divorced</td>\n",
       "      <td>Handlers-cleaners</td>\n",
       "      <td>Not-in-family</td>\n",
       "      <td>White</td>\n",
       "      <td>Male</td>\n",
       "      <td>0</td>\n",
       "      <td>0</td>\n",
       "      <td>40</td>\n",
       "      <td>United-States</td>\n",
       "      <td>&lt;=50K</td>\n",
       "    </tr>\n",
       "    <tr>\n",
       "      <th>3</th>\n",
       "      <td>53</td>\n",
       "      <td>Private</td>\n",
       "      <td>234721</td>\n",
       "      <td>11th</td>\n",
       "      <td>7</td>\n",
       "      <td>Married-civ-spouse</td>\n",
       "      <td>Handlers-cleaners</td>\n",
       "      <td>Husband</td>\n",
       "      <td>Black</td>\n",
       "      <td>Male</td>\n",
       "      <td>0</td>\n",
       "      <td>0</td>\n",
       "      <td>40</td>\n",
       "      <td>United-States</td>\n",
       "      <td>&lt;=50K</td>\n",
       "    </tr>\n",
       "    <tr>\n",
       "      <th>4</th>\n",
       "      <td>28</td>\n",
       "      <td>Private</td>\n",
       "      <td>338409</td>\n",
       "      <td>Bachelors</td>\n",
       "      <td>13</td>\n",
       "      <td>Married-civ-spouse</td>\n",
       "      <td>Prof-specialty</td>\n",
       "      <td>Wife</td>\n",
       "      <td>Black</td>\n",
       "      <td>Female</td>\n",
       "      <td>0</td>\n",
       "      <td>0</td>\n",
       "      <td>40</td>\n",
       "      <td>Cuba</td>\n",
       "      <td>&lt;=50K</td>\n",
       "    </tr>\n",
       "  </tbody>\n",
       "</table>\n",
       "</div>"
      ],
      "text/plain": [
       "   Age          Workclass  Final Weight   Education  EducationNum  \\\n",
       "0   39          State-gov         77516   Bachelors            13   \n",
       "1   50   Self-emp-not-inc         83311   Bachelors            13   \n",
       "2   38            Private        215646     HS-grad             9   \n",
       "3   53            Private        234721        11th             7   \n",
       "4   28            Private        338409   Bachelors            13   \n",
       "\n",
       "        Marital Status          Occupation    Relationship    Race   Gender  \\\n",
       "0        Never-married        Adm-clerical   Not-in-family   White     Male   \n",
       "1   Married-civ-spouse     Exec-managerial         Husband   White     Male   \n",
       "2             Divorced   Handlers-cleaners   Not-in-family   White     Male   \n",
       "3   Married-civ-spouse   Handlers-cleaners         Husband   Black     Male   \n",
       "4   Married-civ-spouse      Prof-specialty            Wife   Black   Female   \n",
       "\n",
       "   Capital Gain  capital loss  Hours per Week  Native Country  Income  \n",
       "0          2174             0              40   United-States   <=50K  \n",
       "1             0             0              13   United-States   <=50K  \n",
       "2             0             0              40   United-States   <=50K  \n",
       "3             0             0              40   United-States   <=50K  \n",
       "4             0             0              40            Cuba   <=50K  "
      ]
     },
     "execution_count": 2,
     "metadata": {},
     "output_type": "execute_result"
    }
   ],
   "source": [
    "#your code here:\n",
    "# Link to the dataset: https://www.kaggle.com/datasets/tawfikelmetwally/census-income-dataset/data?select=adult.csv\n",
    "\n",
    "classification_df = pd.read_csv(\"data_for_classification/adult.csv\")\n",
    "classification_df.head()"
   ]
  },
  {
   "cell_type": "markdown",
   "metadata": {
    "id": "mO-FSmz3DTAj"
   },
   "source": [
    "#2. Read the file into a pandas data frame:\n",
    "Split your data to:\n",
    "\n",
    "a. X: the feature matrix\n",
    "\n",
    "b. y: the label vector"
   ]
  },
  {
   "cell_type": "code",
   "execution_count": 3,
   "metadata": {
    "id": "0-ydbL4lDXIa"
   },
   "outputs": [],
   "source": [
    "#your code here:\n",
    "X_classification = classification_df.drop(columns=['Income'])  \n",
    "y_classification = classification_df['Income'] "
   ]
  },
  {
   "cell_type": "markdown",
   "metadata": {
    "id": "T5BZb-AnDXnb"
   },
   "source": [
    "#3.A. Check for missing values:"
   ]
  },
  {
   "cell_type": "code",
   "execution_count": 4,
   "metadata": {
    "id": "glKyIdt4DcKz"
   },
   "outputs": [
    {
     "name": "stdout",
     "output_type": "stream",
     "text": [
      "Number of Null values: Age               0\n",
      "Workclass         0\n",
      "Final Weight      0\n",
      "Education         0\n",
      "EducationNum      0\n",
      "Marital Status    0\n",
      "Occupation        0\n",
      "Relationship      0\n",
      "Race              0\n",
      "Gender            0\n",
      "Capital Gain      0\n",
      "capital loss      0\n",
      "Hours per Week    0\n",
      "Native Country    0\n",
      "Income            0\n",
      "dtype: int64\n",
      "Number of Duplicated values: 24\n"
     ]
    }
   ],
   "source": [
    "#your code here:\n",
    "print(f'Number of Null values: {classification_df.isnull().sum()}')\n",
    "\n",
    "# I also checked for duplicates values and found 0 duplicates\n",
    "print(f'Number of Duplicated values: {classification_df.duplicated().sum()}')\n",
    "\n",
    "# Drop duplicates and keep only the first occurrence\n",
    "classification_df = classification_df.drop_duplicates(keep='first')"
   ]
  },
  {
   "cell_type": "markdown",
   "metadata": {
    "id": "tYqhzgE8Dkdj"
   },
   "source": [
    "If there are no missing values in your data, follow the next steps:\n",
    "1. uncomment the following function by:\n",
    "\n",
    "  a. selecting all the code in the chunk\n",
    "\n",
    "  b. pressing \"ctrl\"+\"/\" to uncomment all lines\n",
    "2. assign the missing values-containing data to a new variable name (see example below).\n",
    "\n",
    "Say my dataset features is named X.\n",
    "\n",
    "Than the use of the function would be:\n",
    "\n",
    "\n",
    "```\n",
    "X_missing=add_missing_values(X)\n",
    " ```\n",
    "\n",
    "\n",
    "\n",
    "\n"
   ]
  },
  {
   "cell_type": "code",
   "execution_count": 5,
   "metadata": {
    "id": "l8vxkVPpDip8"
   },
   "outputs": [
    {
     "data": {
      "text/plain": [
       "Age               1742\n",
       "Workclass         1770\n",
       "Final Weight      1770\n",
       "Education         1735\n",
       "EducationNum      1804\n",
       "Marital Status    1718\n",
       "Occupation        1645\n",
       "Relationship      1764\n",
       "Race              1675\n",
       "Gender            1721\n",
       "Capital Gain      1776\n",
       "capital loss      1758\n",
       "Hours per Week    1744\n",
       "Native Country    1798\n",
       "dtype: int64"
      ]
     },
     "execution_count": 5,
     "metadata": {},
     "output_type": "execute_result"
    }
   ],
   "source": [
    "def add_missing_values(X_full):\n",
    "    import numpy as np\n",
    "    Col_names=X_full.columns\n",
    "    X_full=X_full.to_numpy()\n",
    "    rng = np.random.RandomState(4)\n",
    "    n_samples, n_features = X_full.shape\n",
    "\n",
    "    # Add missing values in 75% of the lines\n",
    "    missing_rate = 0.75\n",
    "    n_missing_samples = int(n_samples * missing_rate)\n",
    "\n",
    "    missing_samples = np.zeros(n_samples, dtype=bool)\n",
    "    missing_samples[:n_missing_samples] = True\n",
    "\n",
    "    rng.shuffle(missing_samples)\n",
    "    missing_features = rng.randint(0, n_features, n_missing_samples)\n",
    "    X_missing = X_full.copy()\n",
    "    X_missing[missing_samples, missing_features] = np.nan\n",
    "    X_missing=pd.DataFrame(X_missing)\n",
    "    X_missing.columns=Col_names\n",
    "    return X_missing\n",
    "\n",
    "X_missing = add_missing_values(X_classification)\n",
    "X_missing.isnull().sum()"
   ]
  },
  {
   "metadata": {
    "id": "vZLGvx7YIUCc"
   },
   "cell_type": "code",
   "execution_count": 6,
   "source": "#your code here, if there are no missing values:",
   "outputs": []
  },
  {
   "cell_type": "markdown",
   "metadata": {
    "id": "sNhwID7JGHQz"
   },
   "source": [
    "\n",
    "#3.B. Impute the missing values using two different methods and assign the imputed output datasets into variables:"
   ]
  },
  {
   "cell_type": "code",
   "execution_count": 7,
   "metadata": {},
   "outputs": [
    {
     "name": "stdout",
     "output_type": "stream",
     "text": [
      "<class 'pandas.core.frame.DataFrame'>\n",
      "RangeIndex: 32561 entries, 0 to 32560\n",
      "Data columns (total 14 columns):\n",
      " #   Column          Non-Null Count  Dtype  \n",
      "---  ------          --------------  -----  \n",
      " 0   Age             30819 non-null  float64\n",
      " 1   Workclass       30791 non-null  object \n",
      " 2   Final Weight    30791 non-null  float64\n",
      " 3   Education       30826 non-null  object \n",
      " 4   EducationNum    30757 non-null  float64\n",
      " 5   Marital Status  30843 non-null  object \n",
      " 6   Occupation      30916 non-null  object \n",
      " 7   Relationship    30797 non-null  object \n",
      " 8   Race            30886 non-null  object \n",
      " 9   Gender          30840 non-null  object \n",
      " 10  Capital Gain    30785 non-null  float64\n",
      " 11  capital loss    30803 non-null  float64\n",
      " 12  Hours per Week  30817 non-null  float64\n",
      " 13  Native Country  30763 non-null  object \n",
      "dtypes: float64(6), object(8)\n",
      "memory usage: 3.5+ MB\n"
     ]
    }
   ],
   "source": [
    "# The function add_missing_values change the data type of the columns to object,\n",
    "# so we need to change it back to their original data type\n",
    "\n",
    "# List of columns that are supposed to be numeric\n",
    "numeric_columns = ['Age', 'Final Weight', 'EducationNum', 'Capital Gain', 'capital loss', 'Hours per Week']\n",
    "\n",
    "# Convert columns to float to preserve NaN values and after inputing we will convert them back to int\n",
    "X_missing[numeric_columns] = X_missing[numeric_columns].apply(pd.to_numeric, errors='coerce').astype(float)\n",
    "\n",
    "# Check the data types to confirm\n",
    "X_missing.info()"
   ]
  },
  {
   "cell_type": "code",
   "execution_count": 8,
   "metadata": {
    "id": "nQDXRX4TIotK"
   },
   "outputs": [
    {
     "name": "stdout",
     "output_type": "stream",
     "text": [
      "Number of missing values in the filled dataset with the first method:  0\n",
      "Number of missing values in the filled dataset with the second method:  0\n"
     ]
    }
   ],
   "source": [
    "#your code here:\n",
    "\n",
    "# Capture the original column order\n",
    "original_columns_order = X_missing.columns\n",
    "\n",
    "# Separate numerical and categorical columns\n",
    "numerical_cols = X_missing.select_dtypes(include=['float64']).columns\n",
    "categorical_cols = X_missing.select_dtypes(include=['object']).columns\n",
    "\n",
    "# 1) First Method using SimpleImputer for Numerical and Categorical Columns:\n",
    "\n",
    "# Impute missing values for numerical columns using mean strategy\n",
    "imr_mean = SimpleImputer(strategy='mean')\n",
    "X_classification_filled_mean_numerical = pd.DataFrame(imr_mean.fit_transform(X_missing[numerical_cols]), columns=numerical_cols)\n",
    "\n",
    "# Impute missing values for categorical columns using most frequent strategy\n",
    "imr_mode = SimpleImputer(strategy='most_frequent')\n",
    "X_classification_filled_mode_categorical = pd.DataFrame(imr_mode.fit_transform(X_missing[categorical_cols]), columns=categorical_cols)\n",
    "\n",
    "# Combine the imputed numerical and categorical columns\n",
    "X_classification_first = pd.concat([X_classification_filled_mean_numerical, X_classification_filled_mode_categorical], axis=1)\n",
    "\n",
    "# Reorder the columns to match the original order\n",
    "X_classification_first = X_classification_first[original_columns_order]\n",
    "\n",
    "# Check for remaining missing values and display the first few rows\n",
    "print('Number of missing values in the filled dataset with the first method: ', X_classification_first.isnull().sum().sum())\n",
    "\n",
    "# 2) Second Method using KNNImputer for Numerical Columns and SimpleImputer for Categorical Columns:\n",
    "\n",
    "# Impute numeric columns using KNNImputer\n",
    "knn_imputer = KNNImputer(n_neighbors=10, weights='distance')\n",
    "X_missing_numeric = pd.DataFrame(knn_imputer.fit_transform(X_missing[numerical_cols]), columns=numerical_cols)\n",
    "\n",
    "# Impute categorical columns using SimpleImputer with 'most_frequent' strategy\n",
    "imputer_categorical = SimpleImputer(strategy='most_frequent')\n",
    "X_missing_categorical = pd.DataFrame(imputer_categorical.fit_transform(X_missing[categorical_cols]), columns=categorical_cols)\n",
    "\n",
    "# Combine numeric and categorical columns back into a single DataFrame\n",
    "X_classification_second = pd.concat([X_missing_numeric, X_missing_categorical], axis=1)\n",
    "\n",
    "# Verify no missing values remain\n",
    "print('Number of missing values in the filled dataset with the second method: ', X_classification_second.isnull().sum().sum())\n",
    "\n",
    "# Reorder the columns to match the original order\n",
    "X_classification_second = X_classification_second[original_columns_order]\n",
    "\n",
    "# Comverting back to original data types\n",
    "# List of columns that should be integers\n",
    "numeric_columns = ['Age', 'Final Weight', 'EducationNum', 'Capital Gain', 'capital loss', 'Hours per Week']\n",
    "\n",
    "# Convert the float64 columns back to int64 after imputation\n",
    "X_classification_first[numeric_columns] = X_classification_first[numeric_columns].astype(int)\n",
    "X_classification_second[numeric_columns] = X_classification_second[numeric_columns].astype(int)"
   ]
  },
  {
   "cell_type": "markdown",
   "metadata": {
    "id": "lAEMq4hijF84"
   },
   "source": [
    "#3.C. Convert categorical features to dummy variables if number of categories is lower than 5, otherwise remove from data.\n"
   ]
  },
  {
   "cell_type": "code",
   "execution_count": 9,
   "metadata": {
    "id": "9FGOXjHHjYHw"
   },
   "outputs": [
    {
     "name": "stdout",
     "output_type": "stream",
     "text": [
      "Distinct values in 'Workclass': 9\n",
      "Column 'Workclass' has more than 4 categories and should be removed.\n",
      "Distinct values in 'Education': 16\n",
      "Column 'Education' has more than 4 categories and should be removed.\n",
      "Distinct values in 'Marital Status': 7\n",
      "Column 'Marital Status' has more than 4 categories and should be removed.\n",
      "Distinct values in 'Occupation': 15\n",
      "Column 'Occupation' has more than 4 categories and should be removed.\n",
      "Distinct values in 'Relationship': 6\n",
      "Column 'Relationship' has more than 4 categories and should be removed.\n",
      "Distinct values in 'Race': 5\n",
      "Column 'Race' has more than 4 categories and should be removed.\n",
      "Distinct values in 'Gender': 2\n",
      "Column 'Gender' has 4 or fewer categories and can be converted to dummy variables.\n",
      "Distinct values in 'Native Country': 42\n",
      "Column 'Native Country' has more than 4 categories and should be removed.\n"
     ]
    }
   ],
   "source": [
    "#your code here:\n",
    "# Both dataframes X_classification_first and X_classification_second come from the same dataframe and \n",
    "# therefore have the same columns (because we did not drop any column).\n",
    "\n",
    "# Iterate through categorical columns and count distinct values\n",
    "columns_to_remove = []\n",
    "for col in categorical_cols:\n",
    "    unique_values = X_missing[col].nunique()\n",
    "    print(f\"Distinct values in '{col}': {unique_values}\")\n",
    "    \n",
    "    # Check if the column has more than 4 categories\n",
    "    if unique_values > 4:\n",
    "        print(f\"Column '{col}' has more than 4 categories and should be removed.\")\n",
    "        columns_to_remove.append(col)\n",
    "    else:\n",
    "        print(f\"Column '{col}' has 4 or fewer categories and can be converted to dummy variables.\")\n",
    "\n",
    "# Drop the columns with more than 4 categories\n",
    "X_cleaned_first_classification = X_classification_first.drop(columns=columns_to_remove)\n",
    "X_cleaned_second_classification = X_classification_second.drop(columns=columns_to_remove)\n",
    "\n",
    "# Convert remaining categorical columns (with 4 or fewer categories) to dummy variables\n",
    "X_cleaned_first_classification = pd.get_dummies(X_cleaned_first_classification, drop_first=True)\n",
    "X_cleaned_second_classification = pd.get_dummies(X_cleaned_second_classification, drop_first=True)\n",
    "\n",
    "# Step 4: Convert float64 columns back to int64 for numerical columns after imputation\n",
    "X_cleaned_first_classification[numeric_columns] = X_cleaned_first_classification[numeric_columns].astype(int)\n",
    "X_cleaned_second_classification[numeric_columns] = X_cleaned_second_classification[numeric_columns].astype(int)"
   ]
  },
  {
   "cell_type": "code",
   "execution_count": 10,
   "metadata": {},
   "outputs": [
    {
     "data": {
      "text/html": [
       "<div>\n",
       "<style scoped>\n",
       "    .dataframe tbody tr th:only-of-type {\n",
       "        vertical-align: middle;\n",
       "    }\n",
       "\n",
       "    .dataframe tbody tr th {\n",
       "        vertical-align: top;\n",
       "    }\n",
       "\n",
       "    .dataframe thead th {\n",
       "        text-align: right;\n",
       "    }\n",
       "</style>\n",
       "<table border=\"1\" class=\"dataframe\">\n",
       "  <thead>\n",
       "    <tr style=\"text-align: right;\">\n",
       "      <th></th>\n",
       "      <th>Age</th>\n",
       "      <th>Final Weight</th>\n",
       "      <th>EducationNum</th>\n",
       "      <th>Capital Gain</th>\n",
       "      <th>capital loss</th>\n",
       "      <th>Hours per Week</th>\n",
       "    </tr>\n",
       "  </thead>\n",
       "  <tbody>\n",
       "    <tr>\n",
       "      <th>count</th>\n",
       "      <td>32561.000000</td>\n",
       "      <td>3.256100e+04</td>\n",
       "      <td>32561.000000</td>\n",
       "      <td>32561.000000</td>\n",
       "      <td>32561.000000</td>\n",
       "      <td>32561.000000</td>\n",
       "    </tr>\n",
       "    <tr>\n",
       "      <th>mean</th>\n",
       "      <td>38.539725</td>\n",
       "      <td>1.896873e+05</td>\n",
       "      <td>10.079512</td>\n",
       "      <td>1088.824883</td>\n",
       "      <td>87.143270</td>\n",
       "      <td>40.396425</td>\n",
       "    </tr>\n",
       "    <tr>\n",
       "      <th>std</th>\n",
       "      <td>13.253988</td>\n",
       "      <td>1.029162e+05</td>\n",
       "      <td>2.500277</td>\n",
       "      <td>7255.306415</td>\n",
       "      <td>391.407039</td>\n",
       "      <td>11.971641</td>\n",
       "    </tr>\n",
       "    <tr>\n",
       "      <th>min</th>\n",
       "      <td>17.000000</td>\n",
       "      <td>1.228500e+04</td>\n",
       "      <td>1.000000</td>\n",
       "      <td>0.000000</td>\n",
       "      <td>0.000000</td>\n",
       "      <td>1.000000</td>\n",
       "    </tr>\n",
       "    <tr>\n",
       "      <th>25%</th>\n",
       "      <td>28.000000</td>\n",
       "      <td>1.209330e+05</td>\n",
       "      <td>9.000000</td>\n",
       "      <td>0.000000</td>\n",
       "      <td>0.000000</td>\n",
       "      <td>40.000000</td>\n",
       "    </tr>\n",
       "    <tr>\n",
       "      <th>50%</th>\n",
       "      <td>38.000000</td>\n",
       "      <td>1.838020e+05</td>\n",
       "      <td>10.000000</td>\n",
       "      <td>0.000000</td>\n",
       "      <td>0.000000</td>\n",
       "      <td>40.000000</td>\n",
       "    </tr>\n",
       "    <tr>\n",
       "      <th>75%</th>\n",
       "      <td>47.000000</td>\n",
       "      <td>2.315730e+05</td>\n",
       "      <td>12.000000</td>\n",
       "      <td>0.000000</td>\n",
       "      <td>0.000000</td>\n",
       "      <td>45.000000</td>\n",
       "    </tr>\n",
       "    <tr>\n",
       "      <th>max</th>\n",
       "      <td>90.000000</td>\n",
       "      <td>1.484705e+06</td>\n",
       "      <td>16.000000</td>\n",
       "      <td>99999.000000</td>\n",
       "      <td>4356.000000</td>\n",
       "      <td>99.000000</td>\n",
       "    </tr>\n",
       "  </tbody>\n",
       "</table>\n",
       "</div>"
      ],
      "text/plain": [
       "                Age  Final Weight  EducationNum  Capital Gain  capital loss  \\\n",
       "count  32561.000000  3.256100e+04  32561.000000  32561.000000  32561.000000   \n",
       "mean      38.539725  1.896873e+05     10.079512   1088.824883     87.143270   \n",
       "std       13.253988  1.029162e+05      2.500277   7255.306415    391.407039   \n",
       "min       17.000000  1.228500e+04      1.000000      0.000000      0.000000   \n",
       "25%       28.000000  1.209330e+05      9.000000      0.000000      0.000000   \n",
       "50%       38.000000  1.838020e+05     10.000000      0.000000      0.000000   \n",
       "75%       47.000000  2.315730e+05     12.000000      0.000000      0.000000   \n",
       "max       90.000000  1.484705e+06     16.000000  99999.000000   4356.000000   \n",
       "\n",
       "       Hours per Week  \n",
       "count    32561.000000  \n",
       "mean        40.396425  \n",
       "std         11.971641  \n",
       "min          1.000000  \n",
       "25%         40.000000  \n",
       "50%         40.000000  \n",
       "75%         45.000000  \n",
       "max         99.000000  "
      ]
     },
     "execution_count": 10,
     "metadata": {},
     "output_type": "execute_result"
    }
   ],
   "source": [
    "X_cleaned_first_classification.describe()"
   ]
  },
  {
   "cell_type": "code",
   "execution_count": 11,
   "metadata": {},
   "outputs": [
    {
     "data": {
      "text/html": [
       "<div>\n",
       "<style scoped>\n",
       "    .dataframe tbody tr th:only-of-type {\n",
       "        vertical-align: middle;\n",
       "    }\n",
       "\n",
       "    .dataframe tbody tr th {\n",
       "        vertical-align: top;\n",
       "    }\n",
       "\n",
       "    .dataframe thead th {\n",
       "        text-align: right;\n",
       "    }\n",
       "</style>\n",
       "<table border=\"1\" class=\"dataframe\">\n",
       "  <thead>\n",
       "    <tr style=\"text-align: right;\">\n",
       "      <th></th>\n",
       "      <th>Age</th>\n",
       "      <th>Final Weight</th>\n",
       "      <th>EducationNum</th>\n",
       "      <th>Capital Gain</th>\n",
       "      <th>capital loss</th>\n",
       "      <th>Hours per Week</th>\n",
       "    </tr>\n",
       "  </thead>\n",
       "  <tbody>\n",
       "    <tr>\n",
       "      <th>count</th>\n",
       "      <td>32561.000000</td>\n",
       "      <td>3.256100e+04</td>\n",
       "      <td>32561.000000</td>\n",
       "      <td>32561.000000</td>\n",
       "      <td>32561.000000</td>\n",
       "      <td>32561.000000</td>\n",
       "    </tr>\n",
       "    <tr>\n",
       "      <th>mean</th>\n",
       "      <td>38.555972</td>\n",
       "      <td>1.895822e+05</td>\n",
       "      <td>10.060440</td>\n",
       "      <td>1085.870612</td>\n",
       "      <td>88.045269</td>\n",
       "      <td>40.412702</td>\n",
       "    </tr>\n",
       "    <tr>\n",
       "      <th>std</th>\n",
       "      <td>13.356819</td>\n",
       "      <td>1.033363e+05</td>\n",
       "      <td>2.530618</td>\n",
       "      <td>7339.826176</td>\n",
       "      <td>396.259958</td>\n",
       "      <td>12.101955</td>\n",
       "    </tr>\n",
       "    <tr>\n",
       "      <th>min</th>\n",
       "      <td>17.000000</td>\n",
       "      <td>1.228500e+04</td>\n",
       "      <td>1.000000</td>\n",
       "      <td>0.000000</td>\n",
       "      <td>0.000000</td>\n",
       "      <td>1.000000</td>\n",
       "    </tr>\n",
       "    <tr>\n",
       "      <th>25%</th>\n",
       "      <td>28.000000</td>\n",
       "      <td>1.202770e+05</td>\n",
       "      <td>9.000000</td>\n",
       "      <td>0.000000</td>\n",
       "      <td>0.000000</td>\n",
       "      <td>40.000000</td>\n",
       "    </tr>\n",
       "    <tr>\n",
       "      <th>50%</th>\n",
       "      <td>37.000000</td>\n",
       "      <td>1.795080e+05</td>\n",
       "      <td>10.000000</td>\n",
       "      <td>0.000000</td>\n",
       "      <td>0.000000</td>\n",
       "      <td>40.000000</td>\n",
       "    </tr>\n",
       "    <tr>\n",
       "      <th>75%</th>\n",
       "      <td>47.000000</td>\n",
       "      <td>2.339930e+05</td>\n",
       "      <td>12.000000</td>\n",
       "      <td>0.000000</td>\n",
       "      <td>0.000000</td>\n",
       "      <td>45.000000</td>\n",
       "    </tr>\n",
       "    <tr>\n",
       "      <th>max</th>\n",
       "      <td>90.000000</td>\n",
       "      <td>1.484705e+06</td>\n",
       "      <td>16.000000</td>\n",
       "      <td>99999.000000</td>\n",
       "      <td>4356.000000</td>\n",
       "      <td>99.000000</td>\n",
       "    </tr>\n",
       "  </tbody>\n",
       "</table>\n",
       "</div>"
      ],
      "text/plain": [
       "                Age  Final Weight  EducationNum  Capital Gain  capital loss  \\\n",
       "count  32561.000000  3.256100e+04  32561.000000  32561.000000  32561.000000   \n",
       "mean      38.555972  1.895822e+05     10.060440   1085.870612     88.045269   \n",
       "std       13.356819  1.033363e+05      2.530618   7339.826176    396.259958   \n",
       "min       17.000000  1.228500e+04      1.000000      0.000000      0.000000   \n",
       "25%       28.000000  1.202770e+05      9.000000      0.000000      0.000000   \n",
       "50%       37.000000  1.795080e+05     10.000000      0.000000      0.000000   \n",
       "75%       47.000000  2.339930e+05     12.000000      0.000000      0.000000   \n",
       "max       90.000000  1.484705e+06     16.000000  99999.000000   4356.000000   \n",
       "\n",
       "       Hours per Week  \n",
       "count    32561.000000  \n",
       "mean        40.412702  \n",
       "std         12.101955  \n",
       "min          1.000000  \n",
       "25%         40.000000  \n",
       "50%         40.000000  \n",
       "75%         45.000000  \n",
       "max         99.000000  "
      ]
     },
     "execution_count": 11,
     "metadata": {},
     "output_type": "execute_result"
    }
   ],
   "source": [
    "X_cleaned_second_classification.describe()"
   ]
  },
  {
   "cell_type": "markdown",
   "metadata": {},
   "source": [
    "As we can see on both df the values seems fine even for the columns Capitail Gain or capital loss where the min is 0 because we are talking about a gain/loss of money so it could definitely be 0"
   ]
  },
  {
   "cell_type": "markdown",
   "metadata": {
    "id": "TqsoO5XOjaqd"
   },
   "source": [
    "#4. Train test split:"
   ]
  },
  {
   "cell_type": "code",
   "execution_count": 12,
   "metadata": {
    "id": "5v_IudXzjaYW"
   },
   "outputs": [
    {
     "name": "stdout",
     "output_type": "stream",
     "text": [
      "Train set size (first): (26048, 7), (26048,)\n",
      "Test set size (first): (6513, 7), (6513,)\n",
      "Train set size (second): (26048, 7), (26048,)\n",
      "Test set size (second): (6513, 7), (6513,)\n"
     ]
    }
   ],
   "source": [
    "#your code here:\n",
    "\n",
    "# 1) First Imputed Dataset:\n",
    "# Split the first cleaned dataset (X_cleaned_first) and target variable (y_classification)\n",
    "X_train_first_classification, X_test_first_classification, y_train_first_classification, y_test_first_classification = train_test_split(\n",
    "    X_cleaned_first_classification, y_classification, test_size=0.2, random_state=42)\n",
    "\n",
    "# Check the sizes to confirm\n",
    "print(f\"Train set size (first): {X_train_first_classification.shape}, {y_train_first_classification.shape}\")\n",
    "print(f\"Test set size (first): {X_test_first_classification.shape}, {y_test_first_classification.shape}\")\n",
    "\n",
    "\n",
    "# 2) Second Imputed Dataset:\n",
    "# Split the second cleaned dataset (X_cleaned_second) and target variable (y_classification)\n",
    "X_train_second_classification, X_test_second_classification, y_train_second_classification, y_test_second_classification = train_test_split(\n",
    "    X_cleaned_second_classification, y_classification, test_size=0.2, random_state=42)\n",
    "\n",
    "# Check the sizes to confirm\n",
    "print(f\"Train set size (second): {X_train_second_classification.shape}, {y_train_second_classification.shape}\")\n",
    "print(f\"Test set size (second): {X_test_second_classification.shape}, {y_test_second_classification.shape}\")"
   ]
  },
  {
   "cell_type": "markdown",
   "metadata": {
    "id": "GdbJRpF8IsY8"
   },
   "source": [
    "#5. Preprocessing (for both imputed datasets): <br>\n",
    "a. standardize or normalize the data"
   ]
  },
  {
   "cell_type": "code",
   "execution_count": 13,
   "metadata": {
    "id": "wzahU-AlJV3c"
   },
   "outputs": [],
   "source": [
    "#your code here:\n",
    "#5.a\n",
    "# Create a StandardScaler object\n",
    "scaler_first = StandardScaler()\n",
    "scaler_second = StandardScaler()\n",
    "\n",
    "# Fit the scaler on the training data and transform both train and test sets\n",
    "# For First Imputed Dataset\n",
    "X_train_first_scaled_classification = scaler_first.fit_transform(X_train_first_classification)\n",
    "X_test_first_scaled_classification = scaler_first.transform(X_test_first_classification)\n",
    "\n",
    "# For Second Imputed Dataset\n",
    "X_train_second_scaled_classification = scaler_second.fit_transform(X_train_second_classification)\n",
    "X_test_second_scaled_classification = scaler_second.transform(X_test_second_classification)"
   ]
  },
  {
   "cell_type": "markdown",
   "metadata": {},
   "source": [
    "b. print visual representation of the y variable (the output/label variable) or/and value counts of the two categories to test if the data is imbalanced. "
   ]
  },
  {
   "cell_type": "code",
   "execution_count": 14,
   "metadata": {},
   "outputs": [
    {
     "data": {
      "image/png": "[encoded data removed]",
      "text/plain": [
       "<Figure size 600x400 with 1 Axes>"
      ]
     },
     "metadata": {},
     "output_type": "display_data"
    },
    {
     "name": "stdout",
     "output_type": "stream",
     "text": [
      "Income\n",
      "<=50K    19778\n",
      ">50K      6270\n",
      "Name: count, dtype: int64\n"
     ]
    },
    {
     "data": {
      "image/png": "[encoded data removed]",
      "text/plain": [
       "<Figure size 600x400 with 1 Axes>"
      ]
     },
     "metadata": {},
     "output_type": "display_data"
    },
    {
     "name": "stdout",
     "output_type": "stream",
     "text": [
      "Income\n",
      "<=50K    19778\n",
      ">50K      6270\n",
      "Name: count, dtype: int64\n"
     ]
    }
   ],
   "source": [
    "#your code here:\n",
    "#5.b\n",
    "\n",
    "# 1) First Imputed Dataset\n",
    "# Plot the value counts of the target variable (y_train_first) for imbalance check\n",
    "plt.figure(figsize=(6, 4))\n",
    "sns.countplot(x=y_train_first_classification)\n",
    "plt.title('Distribution of Target Variable (y_train_first)')\n",
    "plt.xlabel('Class')\n",
    "plt.ylabel('Count')\n",
    "plt.show()\n",
    "\n",
    "# Print the value counts to check for imbalance\n",
    "print(y_train_first_classification.value_counts())\n",
    "\n",
    "# 2) Second Imputed Dataset\n",
    "# Plot the value counts of the target variable (y_train_second) for imbalance check\n",
    "plt.figure(figsize=(6, 4))\n",
    "sns.countplot(x=y_train_second_classification)\n",
    "plt.title('Distribution of Target Variable (y_train_second)')\n",
    "plt.xlabel('Class')\n",
    "plt.ylabel('Count')\n",
    "plt.show()\n",
    "\n",
    "# Print the value counts to check for imbalance\n",
    "print(y_train_second_classification.value_counts())"
   ]
  },
  {
   "cell_type": "markdown",
   "metadata": {
    "id": "46Pr9C1CLnlL"
   },
   "source": [
    "#6. Choose one balancing method and perform it on your data.\n",
    "\n",
    "Verbally explain the logic behind the chosen balancing metohd, how does it work?"
   ]
  },
  {
   "cell_type": "code",
   "execution_count": 15,
   "metadata": {
    "id": "WTtWHavyMF5S"
   },
   "outputs": [
    {
     "data": {
      "image/png": "[encoded data removed]",
      "text/plain": [
       "<Figure size 600x400 with 1 Axes>"
      ]
     },
     "metadata": {},
     "output_type": "display_data"
    },
    {
     "name": "stdout",
     "output_type": "stream",
     "text": [
      "Value counts for y_train_first_balanced:\n",
      "Income\n",
      ">50K     19778\n",
      "<=50K    19778\n",
      "Name: count, dtype: int64\n"
     ]
    },
    {
     "data": {
      "image/png": "[encoded data removed]",
      "text/plain": [
       "<Figure size 600x400 with 1 Axes>"
      ]
     },
     "metadata": {},
     "output_type": "display_data"
    },
    {
     "name": "stdout",
     "output_type": "stream",
     "text": [
      "Value counts for y_train_second_balanced:\n",
      "Income\n",
      ">50K     19778\n",
      "<=50K    19778\n",
      "Name: count, dtype: int64\n"
     ]
    }
   ],
   "source": [
    "#your code here, if balancing is requierd:\n",
    "\n",
    "# 1) First Imputed Dataset\n",
    "# Create an instance of SMOTE\n",
    "smote = SMOTE(random_state=42)\n",
    "\n",
    "# Apply SMOTE to the training data\n",
    "X_train_first_balanced_classification, y_train_first_balanced_classification = smote.fit_resample(X_train_first_scaled_classification, y_train_first_classification)\n",
    "\n",
    "# Visualize the new balanced dataset\n",
    "plt.figure(figsize=(6, 4))\n",
    "sns.countplot(x=y_train_first_balanced_classification)\n",
    "plt.title('Balanced Distribution of Target Variable (y_train_first_balanced)')\n",
    "plt.xlabel('Class')\n",
    "plt.ylabel('Count')\n",
    "plt.show()\n",
    "\n",
    "# Print the value counts of the balanced dataset\n",
    "print(\"Value counts for y_train_first_balanced:\")\n",
    "print(y_train_first_balanced_classification.value_counts())\n",
    "\n",
    "# 2) Second Imputed Dataset\n",
    "# Create an instance of SMOTE\n",
    "smote = SMOTE(random_state=42)\n",
    "\n",
    "# Apply SMOTE to the training data\n",
    "X_train_second_balanced_classification, y_train_second_balanced_classification = smote.fit_resample(X_train_second_scaled_classification, y_train_second_classification)\n",
    "\n",
    "# Visualize the new balanced dataset\n",
    "plt.figure(figsize=(6, 4))\n",
    "sns.countplot(x=y_train_second_balanced_classification)\n",
    "plt.title('Balanced Distribution of Target Variable (y_train_second_balanced)')\n",
    "plt.xlabel('Class')\n",
    "plt.ylabel('Count')\n",
    "plt.show()\n",
    "\n",
    "# Print the value counts of the balanced dataset\n",
    "print(\"Value counts for y_train_second_balanced:\")\n",
    "print(y_train_second_balanced_classification.value_counts())"
   ]
  },
  {
   "cell_type": "markdown",
   "metadata": {
    "id": "2B1KVYl3LYTM"
   },
   "source": [
    "#Your answer here: <br>\n",
    "Balancing the data was necessary because the dataset was imbalanced (for 'Income' = '<=50K': 19778 values\n",
    "and for 'Income' = '>50K': 6270 values), which can bias the model for predicting the class majority class. We chose SMOTE because it generates synthetic samples for the minority class and therefor avoid overfitting that can occur with simple duplication. The SMOTE method ensures that the minority class is represented enough and therefore it improve the model's overall performance. SMOTE is effective when we have an imbalance data and when preventing overfitting is a priority.\n"
   ]
  },
  {
   "cell_type": "markdown",
   "metadata": {
    "id": "p32CMu4SNEQb"
   },
   "source": [
    "#7. Training models (for both imputed datasets): <br>\n",
    "**a.** choose three classification algorithms, two must be either random forest or XGBoost or catboost or LGBM, and apply the algorithms on the train set.  <br>\n",
    "\n",
    "**b.** apply hyperparameter tuning on at least two algorithms using gridsearchCV function.<br>\n",
    "\n",
    "**c.** print the best hyperparameters for the three models.\n",
    "\n",
    "Reminder, if the tuned model is named \"grid\" than to get the best hyperparameter combination use the following function:\n",
    "\n",
    "\n",
    "```\n",
    "grid.best_params_\n",
    "```\n",
    "\n",
    "\n",
    "**d.** Veraverbally explain: what is the role of the chosen hyperparmeters in the learning algorithms? How did you choose the values for the optimization? (in 3-4 lines)\n"
   ]
  },
  {
   "cell_type": "code",
   "execution_count": 16,
   "metadata": {
    "id": "WLveUiA9Y7Iz"
   },
   "outputs": [
    {
     "name": "stdout",
     "output_type": "stream",
     "text": [
      "Best parameters for Random Forest (first): {'max_depth': None, 'n_estimators': 200}\n",
      "Best parameters for XGBoost (first): {'max_depth': 6, 'n_estimators': 200}\n",
      "Best parameters for HistGradientBoostingClassifier (first): {'max_depth': 6, 'max_iter': 200}\n",
      "Best parameters for Random Forest (second): {'max_depth': None, 'n_estimators': 200}\n",
      "Best parameters for XGBoost (second): {'max_depth': 6, 'n_estimators': 200}\n",
      "Best parameters for HistGradientBoostingClassifier (second): {'max_depth': 6, 'max_iter': 200}\n"
     ]
    }
   ],
   "source": [
    "#your code here:\n",
    "# Initialize the LabelEncoder\n",
    "label_encoder_first = LabelEncoder()\n",
    "label_encoder_second = LabelEncoder()\n",
    "\n",
    "# Convert the target variable y_train and y_test to numeric values\n",
    "y_train_first_encoded_classification = label_encoder_first.fit_transform(y_train_first_balanced_classification)\n",
    "y_test_first_encoded_classification = label_encoder_first.transform(y_test_first_classification)\n",
    "\n",
    "# Convert the target variable y_train and y_test to numeric values\n",
    "y_train_second_encoded_classification = label_encoder_second.fit_transform(y_train_second_balanced_classification)\n",
    "y_test_second_encoded_classification = label_encoder_second.transform(y_test_second_classification)\n",
    "\n",
    "\n",
    "# 7.a\n",
    "# Parameter grid for Random Forest\n",
    "rf_param_grid = {\n",
    "    'n_estimators': [100, 200],\n",
    "    'max_depth': [10, 20, None],\n",
    "}\n",
    "\n",
    "# Parameter grid for XGBoost\n",
    "xgb_param_grid = {\n",
    "    'n_estimators': [100, 200],\n",
    "    'max_depth': [3, 6],\n",
    "}\n",
    "\n",
    "# Parameter grid for HistGradientBoostingClassifier\n",
    "hgb_param_grid = {\n",
    "    'max_iter': [100, 200],\n",
    "    'max_depth': [3, 6]\n",
    "}\n",
    "\n",
    "# 7.a - For the first dataset\n",
    "# Create Random Forest model for the first dataset\n",
    "rf_first = RandomForestClassifier(random_state=42)\n",
    "rf_grid_first = GridSearchCV(estimator=rf_first, param_grid=rf_param_grid, cv=3)\n",
    "rf_grid_first.fit(X_train_first_balanced_classification, y_train_first_encoded_classification)\n",
    "\n",
    "# Create XGBoost model for the first dataset\n",
    "xgb_first = XGBClassifier(random_state=42, eval_metric='mlogloss')\n",
    "xgb_grid_first = GridSearchCV(estimator=xgb_first, param_grid=xgb_param_grid, cv=3)\n",
    "xgb_grid_first.fit(X_train_first_balanced_classification, y_train_first_encoded_classification)\n",
    "\n",
    "# Create HistGradientBoostingClassifier model for the first dataset\n",
    "hgb_first = HistGradientBoostingClassifier(random_state=42)\n",
    "hgb_grid_first = GridSearchCV(estimator=hgb_first, param_grid=hgb_param_grid, cv=3)\n",
    "hgb_grid_first.fit(X_train_first_balanced_classification, y_train_first_encoded_classification)\n",
    "\n",
    "# Best parameters for the first dataset models\n",
    "print(\"Best parameters for Random Forest (first):\", rf_grid_first.best_params_)\n",
    "print(\"Best parameters for XGBoost (first):\", xgb_grid_first.best_params_)\n",
    "print(\"Best parameters for HistGradientBoostingClassifier (first):\", hgb_grid_first.best_params_)\n",
    "\n",
    "\n",
    "# 7.b - For the second dataset\n",
    "# Create Random Forest model for the second dataset\n",
    "rf_second = RandomForestClassifier(random_state=42)\n",
    "rf_grid_second = GridSearchCV(estimator=rf_second, param_grid=rf_param_grid, cv=3)\n",
    "rf_grid_second.fit(X_train_second_balanced_classification, y_train_second_encoded_classification)\n",
    "\n",
    "# Create XGBoost model for the second dataset\n",
    "xgb_second = XGBClassifier(random_state=42, eval_metric='mlogloss')\n",
    "xgb_grid_second = GridSearchCV(estimator=xgb_second, param_grid=xgb_param_grid, cv=3)\n",
    "xgb_grid_second.fit(X_train_second_balanced_classification, y_train_second_encoded_classification)\n",
    "\n",
    "# Create HistGradientBoostingClassifier model for the second dataset\n",
    "hgb_second = HistGradientBoostingClassifier(random_state=42)\n",
    "hgb_grid_second = GridSearchCV(estimator=hgb_second, param_grid=hgb_param_grid, cv=3)\n",
    "hgb_grid_second.fit(X_train_second_balanced_classification, y_train_second_encoded_classification)\n",
    "\n",
    "# Best parameters for the second dataset models\n",
    "print(\"Best parameters for Random Forest (second):\", rf_grid_second.best_params_)\n",
    "print(\"Best parameters for XGBoost (second):\", xgb_grid_second.best_params_)\n",
    "print(\"Best parameters for HistGradientBoostingClassifier (second):\", hgb_grid_second.best_params_)\n"
   ]
  },
  {
   "cell_type": "markdown",
   "metadata": {},
   "source": [
    "For Random Forest, n_estimators controls the number of trees in the forest which affect accuracy and computation time,max_depth limits the tree depth which allow a blance between complexity and overfitting risk. For XGBoost, learning_rate manages how much each tree contributes where smaller values reduce overfitting but require more trees, and n_estimators defines the number of boosting rounds. In HistGradientBoostingClassifier, max_iter determines the number of boosting iterations, and learning_rate affects the speed of learning and generalization."
   ]
  },
  {
   "cell_type": "markdown",
   "metadata": {
    "id": "ySInCwHzY6kG"
   },
   "source": [
    "#Your answer here:\n",
    "\n"
   ]
  },
  {
   "cell_type": "markdown",
   "metadata": {
    "id": "WbNQJ0fakULJ"
   },
   "source": [
    "#8. Train a neural network on both imputed datasets."
   ]
  },
  {
   "cell_type": "code",
   "execution_count": 17,
   "metadata": {
    "id": "Bm7OJaGWkT0W"
   },
   "outputs": [
    {
     "name": "stdout",
     "output_type": "stream",
     "text": [
      "Epoch 1/50\n",
      "\u001B[1m989/989\u001B[0m \u001B[32m━━━━━━━━━━━━━━━━━━━━\u001B[0m\u001B[37m\u001B[0m \u001B[1m5s\u001B[0m 2ms/step - accuracy: 0.7448 - loss: 0.5228 - val_accuracy: 0.6429 - val_loss: 0.6703\n",
      "Epoch 2/50\n",
      "\u001B[1m989/989\u001B[0m \u001B[32m━━━━━━━━━━━━━━━━━━━━\u001B[0m\u001B[37m\u001B[0m \u001B[1m2s\u001B[0m 2ms/step - accuracy: 0.7766 - loss: 0.4537 - val_accuracy: 0.6576 - val_loss: 0.6373\n",
      "Epoch 3/50\n",
      "\u001B[1m989/989\u001B[0m \u001B[32m━━━━━━━━━━━━━━━━━━━━\u001B[0m\u001B[37m\u001B[0m \u001B[1m2s\u001B[0m 2ms/step - accuracy: 0.7802 - loss: 0.4530 - val_accuracy: 0.6704 - val_loss: 0.6035\n",
      "Epoch 4/50\n",
      "\u001B[1m989/989\u001B[0m \u001B[32m━━━━━━━━━━━━━━━━━━━━\u001B[0m\u001B[37m\u001B[0m \u001B[1m2s\u001B[0m 2ms/step - accuracy: 0.7820 - loss: 0.4517 - val_accuracy: 0.6816 - val_loss: 0.5852\n",
      "Epoch 5/50\n",
      "\u001B[1m989/989\u001B[0m \u001B[32m━━━━━━━━━━━━━━━━━━━━\u001B[0m\u001B[37m\u001B[0m \u001B[1m2s\u001B[0m 2ms/step - accuracy: 0.7837 - loss: 0.4457 - val_accuracy: 0.6831 - val_loss: 0.5913\n",
      "Epoch 6/50\n",
      "\u001B[1m989/989\u001B[0m \u001B[32m━━━━━━━━━━━━━━━━━━━━\u001B[0m\u001B[37m\u001B[0m \u001B[1m3s\u001B[0m 3ms/step - accuracy: 0.7835 - loss: 0.4468 - val_accuracy: 0.6720 - val_loss: 0.5985\n",
      "Epoch 7/50\n",
      "\u001B[1m989/989\u001B[0m \u001B[32m━━━━━━━━━━━━━━━━━━━━\u001B[0m\u001B[37m\u001B[0m \u001B[1m5s\u001B[0m 5ms/step - accuracy: 0.7831 - loss: 0.4513 - val_accuracy: 0.6764 - val_loss: 0.6039\n",
      "Epoch 8/50\n",
      "\u001B[1m989/989\u001B[0m \u001B[32m━━━━━━━━━━━━━━━━━━━━\u001B[0m\u001B[37m\u001B[0m \u001B[1m2s\u001B[0m 2ms/step - accuracy: 0.7795 - loss: 0.4502 - val_accuracy: 0.6448 - val_loss: 0.6016\n",
      "Epoch 9/50\n",
      "\u001B[1m989/989\u001B[0m \u001B[32m━━━━━━━━━━━━━━━━━━━━\u001B[0m\u001B[37m\u001B[0m \u001B[1m2s\u001B[0m 2ms/step - accuracy: 0.7826 - loss: 0.4481 - val_accuracy: 0.6881 - val_loss: 0.5941\n",
      "Epoch 10/50\n",
      "\u001B[1m989/989\u001B[0m \u001B[32m━━━━━━━━━━━━━━━━━━━━\u001B[0m\u001B[37m\u001B[0m \u001B[1m2s\u001B[0m 2ms/step - accuracy: 0.7848 - loss: 0.4420 - val_accuracy: 0.6871 - val_loss: 0.5812\n",
      "Epoch 11/50\n",
      "\u001B[1m989/989\u001B[0m \u001B[32m━━━━━━━━━━━━━━━━━━━━\u001B[0m\u001B[37m\u001B[0m \u001B[1m2s\u001B[0m 2ms/step - accuracy: 0.7833 - loss: 0.4450 - val_accuracy: 0.6551 - val_loss: 0.6036\n",
      "Epoch 12/50\n",
      "\u001B[1m989/989\u001B[0m \u001B[32m━━━━━━━━━━━━━━━━━━━━\u001B[0m\u001B[37m\u001B[0m \u001B[1m2s\u001B[0m 2ms/step - accuracy: 0.7825 - loss: 0.4453 - val_accuracy: 0.7264 - val_loss: 0.5533\n",
      "Epoch 13/50\n",
      "\u001B[1m989/989\u001B[0m \u001B[32m━━━━━━━━━━━━━━━━━━━━\u001B[0m\u001B[37m\u001B[0m \u001B[1m3s\u001B[0m 3ms/step - accuracy: 0.7805 - loss: 0.4448 - val_accuracy: 0.7032 - val_loss: 0.5378\n",
      "Epoch 14/50\n",
      "\u001B[1m989/989\u001B[0m \u001B[32m━━━━━━━━━━━━━━━━━━━━\u001B[0m\u001B[37m\u001B[0m \u001B[1m2s\u001B[0m 2ms/step - accuracy: 0.7888 - loss: 0.4365 - val_accuracy: 0.6884 - val_loss: 0.5411\n",
      "Epoch 15/50\n",
      "\u001B[1m989/989\u001B[0m \u001B[32m━━━━━━━━━━━━━━━━━━━━\u001B[0m\u001B[37m\u001B[0m \u001B[1m2s\u001B[0m 2ms/step - accuracy: 0.7876 - loss: 0.4366 - val_accuracy: 0.6414 - val_loss: 0.5738\n",
      "Epoch 16/50\n",
      "\u001B[1m989/989\u001B[0m \u001B[32m━━━━━━━━━━━━━━━━━━━━\u001B[0m\u001B[37m\u001B[0m \u001B[1m2s\u001B[0m 2ms/step - accuracy: 0.7827 - loss: 0.4442 - val_accuracy: 0.6629 - val_loss: 0.6140\n",
      "Epoch 17/50\n",
      "\u001B[1m989/989\u001B[0m \u001B[32m━━━━━━━━━━━━━━━━━━━━\u001B[0m\u001B[37m\u001B[0m \u001B[1m2s\u001B[0m 2ms/step - accuracy: 0.7844 - loss: 0.4410 - val_accuracy: 0.6868 - val_loss: 0.5618\n",
      "Epoch 18/50\n",
      "\u001B[1m989/989\u001B[0m \u001B[32m━━━━━━━━━━━━━━━━━━━━\u001B[0m\u001B[37m\u001B[0m \u001B[1m2s\u001B[0m 2ms/step - accuracy: 0.7869 - loss: 0.4391 - val_accuracy: 0.6711 - val_loss: 0.5947\n",
      "Epoch 19/50\n",
      "\u001B[1m989/989\u001B[0m \u001B[32m━━━━━━━━━━━━━━━━━━━━\u001B[0m\u001B[37m\u001B[0m \u001B[1m2s\u001B[0m 2ms/step - accuracy: 0.7881 - loss: 0.4358 - val_accuracy: 0.6685 - val_loss: 0.5849\n",
      "Epoch 20/50\n",
      "\u001B[1m989/989\u001B[0m \u001B[32m━━━━━━━━━━━━━━━━━━━━\u001B[0m\u001B[37m\u001B[0m \u001B[1m3s\u001B[0m 3ms/step - accuracy: 0.7923 - loss: 0.4321 - val_accuracy: 0.6776 - val_loss: 0.5866\n",
      "Epoch 21/50\n",
      "\u001B[1m989/989\u001B[0m \u001B[32m━━━━━━━━━━━━━━━━━━━━\u001B[0m\u001B[37m\u001B[0m \u001B[1m2s\u001B[0m 2ms/step - accuracy: 0.7871 - loss: 0.4369 - val_accuracy: 0.6821 - val_loss: 0.5655\n",
      "Epoch 22/50\n",
      "\u001B[1m989/989\u001B[0m \u001B[32m━━━━━━━━━━━━━━━━━━━━\u001B[0m\u001B[37m\u001B[0m \u001B[1m2s\u001B[0m 2ms/step - accuracy: 0.7899 - loss: 0.4292 - val_accuracy: 0.6603 - val_loss: 0.5422\n",
      "Epoch 23/50\n",
      "\u001B[1m989/989\u001B[0m \u001B[32m━━━━━━━━━━━━━━━━━━━━\u001B[0m\u001B[37m\u001B[0m \u001B[1m2s\u001B[0m 2ms/step - accuracy: 0.7868 - loss: 0.4339 - val_accuracy: 0.7050 - val_loss: 0.5197\n",
      "Epoch 24/50\n",
      "\u001B[1m989/989\u001B[0m \u001B[32m━━━━━━━━━━━━━━━━━━━━\u001B[0m\u001B[37m\u001B[0m \u001B[1m2s\u001B[0m 2ms/step - accuracy: 0.7879 - loss: 0.4407 - val_accuracy: 0.6873 - val_loss: 0.5416\n",
      "Epoch 25/50\n",
      "\u001B[1m989/989\u001B[0m \u001B[32m━━━━━━━━━━━━━━━━━━━━\u001B[0m\u001B[37m\u001B[0m \u001B[1m2s\u001B[0m 2ms/step - accuracy: 0.7855 - loss: 0.4374 - val_accuracy: 0.6464 - val_loss: 0.5775\n",
      "Epoch 26/50\n",
      "\u001B[1m989/989\u001B[0m \u001B[32m━━━━━━━━━━━━━━━━━━━━\u001B[0m\u001B[37m\u001B[0m \u001B[1m2s\u001B[0m 2ms/step - accuracy: 0.7863 - loss: 0.4336 - val_accuracy: 0.6293 - val_loss: 0.5833\n",
      "Epoch 27/50\n",
      "\u001B[1m989/989\u001B[0m \u001B[32m━━━━━━━━━━━━━━━━━━━━\u001B[0m\u001B[37m\u001B[0m \u001B[1m3s\u001B[0m 3ms/step - accuracy: 0.7877 - loss: 0.4351 - val_accuracy: 0.7089 - val_loss: 0.5366\n",
      "Epoch 28/50\n",
      "\u001B[1m989/989\u001B[0m \u001B[32m━━━━━━━━━━━━━━━━━━━━\u001B[0m\u001B[37m\u001B[0m \u001B[1m2s\u001B[0m 2ms/step - accuracy: 0.7876 - loss: 0.4339 - val_accuracy: 0.6878 - val_loss: 0.5358\n",
      "Epoch 29/50\n",
      "\u001B[1m989/989\u001B[0m \u001B[32m━━━━━━━━━━━━━━━━━━━━\u001B[0m\u001B[37m\u001B[0m \u001B[1m2s\u001B[0m 2ms/step - accuracy: 0.7893 - loss: 0.4328 - val_accuracy: 0.6776 - val_loss: 0.5579\n",
      "Epoch 30/50\n",
      "\u001B[1m989/989\u001B[0m \u001B[32m━━━━━━━━━━━━━━━━━━━━\u001B[0m\u001B[37m\u001B[0m \u001B[1m2s\u001B[0m 2ms/step - accuracy: 0.7879 - loss: 0.4354 - val_accuracy: 0.7021 - val_loss: 0.5193\n",
      "Epoch 31/50\n",
      "\u001B[1m989/989\u001B[0m \u001B[32m━━━━━━━━━━━━━━━━━━━━\u001B[0m\u001B[37m\u001B[0m \u001B[1m2s\u001B[0m 2ms/step - accuracy: 0.7909 - loss: 0.4275 - val_accuracy: 0.6998 - val_loss: 0.5147\n",
      "Epoch 32/50\n",
      "\u001B[1m989/989\u001B[0m \u001B[32m━━━━━━━━━━━━━━━━━━━━\u001B[0m\u001B[37m\u001B[0m \u001B[1m2s\u001B[0m 2ms/step - accuracy: 0.7868 - loss: 0.4369 - val_accuracy: 0.6533 - val_loss: 0.5793\n",
      "Epoch 33/50\n",
      "\u001B[1m989/989\u001B[0m \u001B[32m━━━━━━━━━━━━━━━━━━━━\u001B[0m\u001B[37m\u001B[0m \u001B[1m2s\u001B[0m 2ms/step - accuracy: 0.7882 - loss: 0.4341 - val_accuracy: 0.6737 - val_loss: 0.5486\n",
      "Epoch 34/50\n",
      "\u001B[1m989/989\u001B[0m \u001B[32m━━━━━━━━━━━━━━━━━━━━\u001B[0m\u001B[37m\u001B[0m \u001B[1m4s\u001B[0m 4ms/step - accuracy: 0.7896 - loss: 0.4316 - val_accuracy: 0.6848 - val_loss: 0.5417\n",
      "Epoch 35/50\n",
      "\u001B[1m989/989\u001B[0m \u001B[32m━━━━━━━━━━━━━━━━━━━━\u001B[0m\u001B[37m\u001B[0m \u001B[1m3s\u001B[0m 3ms/step - accuracy: 0.7847 - loss: 0.4345 - val_accuracy: 0.6589 - val_loss: 0.5852\n",
      "Epoch 36/50\n",
      "\u001B[1m989/989\u001B[0m \u001B[32m━━━━━━━━━━━━━━━━━━━━\u001B[0m\u001B[37m\u001B[0m \u001B[1m2s\u001B[0m 2ms/step - accuracy: 0.7882 - loss: 0.4314 - val_accuracy: 0.6877 - val_loss: 0.5699\n",
      "Epoch 37/50\n",
      "\u001B[1m989/989\u001B[0m \u001B[32m━━━━━━━━━━━━━━━━━━━━\u001B[0m\u001B[37m\u001B[0m \u001B[1m2s\u001B[0m 2ms/step - accuracy: 0.7942 - loss: 0.4319 - val_accuracy: 0.6694 - val_loss: 0.5711\n",
      "Epoch 38/50\n",
      "\u001B[1m989/989\u001B[0m \u001B[32m━━━━━━━━━━━━━━━━━━━━\u001B[0m\u001B[37m\u001B[0m \u001B[1m2s\u001B[0m 2ms/step - accuracy: 0.7946 - loss: 0.4300 - val_accuracy: 0.6658 - val_loss: 0.5817\n",
      "Epoch 39/50\n",
      "\u001B[1m989/989\u001B[0m \u001B[32m━━━━━━━━━━━━━━━━━━━━\u001B[0m\u001B[37m\u001B[0m \u001B[1m2s\u001B[0m 2ms/step - accuracy: 0.7887 - loss: 0.4305 - val_accuracy: 0.6569 - val_loss: 0.5546\n",
      "Epoch 40/50\n",
      "\u001B[1m989/989\u001B[0m \u001B[32m━━━━━━━━━━━━━━━━━━━━\u001B[0m\u001B[37m\u001B[0m \u001B[1m3s\u001B[0m 3ms/step - accuracy: 0.7893 - loss: 0.4346 - val_accuracy: 0.6211 - val_loss: 0.6005\n",
      "Epoch 41/50\n",
      "\u001B[1m989/989\u001B[0m \u001B[32m━━━━━━━━━━━━━━━━━━━━\u001B[0m\u001B[37m\u001B[0m \u001B[1m2s\u001B[0m 2ms/step - accuracy: 0.7888 - loss: 0.4308 - val_accuracy: 0.6499 - val_loss: 0.5596\n",
      "Epoch 42/50\n",
      "\u001B[1m989/989\u001B[0m \u001B[32m━━━━━━━━━━━━━━━━━━━━\u001B[0m\u001B[37m\u001B[0m \u001B[1m2s\u001B[0m 2ms/step - accuracy: 0.7883 - loss: 0.4341 - val_accuracy: 0.6289 - val_loss: 0.6092\n",
      "Epoch 43/50\n",
      "\u001B[1m989/989\u001B[0m \u001B[32m━━━━━━━━━━━━━━━━━━━━\u001B[0m\u001B[37m\u001B[0m \u001B[1m2s\u001B[0m 2ms/step - accuracy: 0.7906 - loss: 0.4316 - val_accuracy: 0.6633 - val_loss: 0.5900\n",
      "Epoch 44/50\n",
      "\u001B[1m989/989\u001B[0m \u001B[32m━━━━━━━━━━━━━━━━━━━━\u001B[0m\u001B[37m\u001B[0m \u001B[1m2s\u001B[0m 2ms/step - accuracy: 0.7900 - loss: 0.4298 - val_accuracy: 0.6708 - val_loss: 0.5625\n",
      "Epoch 45/50\n",
      "\u001B[1m989/989\u001B[0m \u001B[32m━━━━━━━━━━━━━━━━━━━━\u001B[0m\u001B[37m\u001B[0m \u001B[1m3s\u001B[0m 3ms/step - accuracy: 0.7880 - loss: 0.4314 - val_accuracy: 0.6630 - val_loss: 0.5674\n",
      "Epoch 46/50\n",
      "\u001B[1m989/989\u001B[0m \u001B[32m━━━━━━━━━━━━━━━━━━━━\u001B[0m\u001B[37m\u001B[0m \u001B[1m2s\u001B[0m 2ms/step - accuracy: 0.7900 - loss: 0.4312 - val_accuracy: 0.6868 - val_loss: 0.5504\n",
      "Epoch 47/50\n",
      "\u001B[1m989/989\u001B[0m \u001B[32m━━━━━━━━━━━━━━━━━━━━\u001B[0m\u001B[37m\u001B[0m \u001B[1m2s\u001B[0m 2ms/step - accuracy: 0.7881 - loss: 0.4329 - val_accuracy: 0.6380 - val_loss: 0.6211\n",
      "Epoch 48/50\n",
      "\u001B[1m989/989\u001B[0m \u001B[32m━━━━━━━━━━━━━━━━━━━━\u001B[0m\u001B[37m\u001B[0m \u001B[1m2s\u001B[0m 2ms/step - accuracy: 0.7889 - loss: 0.4323 - val_accuracy: 0.7102 - val_loss: 0.5205\n",
      "Epoch 49/50\n",
      "\u001B[1m989/989\u001B[0m \u001B[32m━━━━━━━━━━━━━━━━━━━━\u001B[0m\u001B[37m\u001B[0m \u001B[1m2s\u001B[0m 2ms/step - accuracy: 0.7891 - loss: 0.4338 - val_accuracy: 0.6472 - val_loss: 0.5733\n",
      "Epoch 50/50\n",
      "\u001B[1m989/989\u001B[0m \u001B[32m━━━━━━━━━━━━━━━━━━━━\u001B[0m\u001B[37m\u001B[0m \u001B[1m3s\u001B[0m 3ms/step - accuracy: 0.7859 - loss: 0.4373 - val_accuracy: 0.6471 - val_loss: 0.5883\n"
     ]
    },
    {
     "data": {
      "text/html": [
       "<pre style=\"white-space:pre;overflow-x:auto;line-height:normal;font-family:Menlo,'DejaVu Sans Mono',consolas,'Courier New',monospace\"><span style=\"font-weight: bold\">Model: \"sequential\"</span>\n",
       "</pre>\n"
      ],
      "text/plain": [
       "\u001B[1mModel: \"sequential\"\u001B[0m\n"
      ]
     },
     "metadata": {},
     "output_type": "display_data"
    },
    {
     "data": {
      "text/html": [
       "<pre style=\"white-space:pre;overflow-x:auto;line-height:normal;font-family:Menlo,'DejaVu Sans Mono',consolas,'Courier New',monospace\">┏━━━━━━━━━━━━━━━━━━━━━━━━━━━━━━━━━┳━━━━━━━━━━━━━━━━━━━━━━━━┳━━━━━━━━━━━━━━━┓\n",
       "┃<span style=\"font-weight: bold\"> Layer (type)                    </span>┃<span style=\"font-weight: bold\"> Output Shape           </span>┃<span style=\"font-weight: bold\">       Param # </span>┃\n",
       "┡━━━━━━━━━━━━━━━━━━━━━━━━━━━━━━━━━╇━━━━━━━━━━━━━━━━━━━━━━━━╇━━━━━━━━━━━━━━━┩\n",
       "│ dense (<span style=\"color: #0087ff; text-decoration-color: #0087ff\">Dense</span>)                   │ (<span style=\"color: #00d7ff; text-decoration-color: #00d7ff\">None</span>, <span style=\"color: #00af00; text-decoration-color: #00af00\">64</span>)             │           <span style=\"color: #00af00; text-decoration-color: #00af00\">512</span> │\n",
       "├─────────────────────────────────┼────────────────────────┼───────────────┤\n",
       "│ dense_1 (<span style=\"color: #0087ff; text-decoration-color: #0087ff\">Dense</span>)                 │ (<span style=\"color: #00d7ff; text-decoration-color: #00d7ff\">None</span>, <span style=\"color: #00af00; text-decoration-color: #00af00\">32</span>)             │         <span style=\"color: #00af00; text-decoration-color: #00af00\">2,080</span> │\n",
       "├─────────────────────────────────┼────────────────────────┼───────────────┤\n",
       "│ dropout (<span style=\"color: #0087ff; text-decoration-color: #0087ff\">Dropout</span>)               │ (<span style=\"color: #00d7ff; text-decoration-color: #00d7ff\">None</span>, <span style=\"color: #00af00; text-decoration-color: #00af00\">32</span>)             │             <span style=\"color: #00af00; text-decoration-color: #00af00\">0</span> │\n",
       "├─────────────────────────────────┼────────────────────────┼───────────────┤\n",
       "│ dense_2 (<span style=\"color: #0087ff; text-decoration-color: #0087ff\">Dense</span>)                 │ (<span style=\"color: #00d7ff; text-decoration-color: #00d7ff\">None</span>, <span style=\"color: #00af00; text-decoration-color: #00af00\">16</span>)             │           <span style=\"color: #00af00; text-decoration-color: #00af00\">528</span> │\n",
       "├─────────────────────────────────┼────────────────────────┼───────────────┤\n",
       "│ dense_3 (<span style=\"color: #0087ff; text-decoration-color: #0087ff\">Dense</span>)                 │ (<span style=\"color: #00d7ff; text-decoration-color: #00d7ff\">None</span>, <span style=\"color: #00af00; text-decoration-color: #00af00\">1</span>)              │            <span style=\"color: #00af00; text-decoration-color: #00af00\">17</span> │\n",
       "└─────────────────────────────────┴────────────────────────┴───────────────┘\n",
       "</pre>\n"
      ],
      "text/plain": [
       "┏━━━━━━━━━━━━━━━━━━━━━━━━━━━━━━━━━┳━━━━━━━━━━━━━━━━━━━━━━━━┳━━━━━━━━━━━━━━━┓\n",
       "┃\u001B[1m \u001B[0m\u001B[1mLayer (type)                   \u001B[0m\u001B[1m \u001B[0m┃\u001B[1m \u001B[0m\u001B[1mOutput Shape          \u001B[0m\u001B[1m \u001B[0m┃\u001B[1m \u001B[0m\u001B[1m      Param #\u001B[0m\u001B[1m \u001B[0m┃\n",
       "┡━━━━━━━━━━━━━━━━━━━━━━━━━━━━━━━━━╇━━━━━━━━━━━━━━━━━━━━━━━━╇━━━━━━━━━━━━━━━┩\n",
       "│ dense (\u001B[38;5;33mDense\u001B[0m)                   │ (\u001B[38;5;45mNone\u001B[0m, \u001B[38;5;34m64\u001B[0m)             │           \u001B[38;5;34m512\u001B[0m │\n",
       "├─────────────────────────────────┼────────────────────────┼───────────────┤\n",
       "│ dense_1 (\u001B[38;5;33mDense\u001B[0m)                 │ (\u001B[38;5;45mNone\u001B[0m, \u001B[38;5;34m32\u001B[0m)             │         \u001B[38;5;34m2,080\u001B[0m │\n",
       "├─────────────────────────────────┼────────────────────────┼───────────────┤\n",
       "│ dropout (\u001B[38;5;33mDropout\u001B[0m)               │ (\u001B[38;5;45mNone\u001B[0m, \u001B[38;5;34m32\u001B[0m)             │             \u001B[38;5;34m0\u001B[0m │\n",
       "├─────────────────────────────────┼────────────────────────┼───────────────┤\n",
       "│ dense_2 (\u001B[38;5;33mDense\u001B[0m)                 │ (\u001B[38;5;45mNone\u001B[0m, \u001B[38;5;34m16\u001B[0m)             │           \u001B[38;5;34m528\u001B[0m │\n",
       "├─────────────────────────────────┼────────────────────────┼───────────────┤\n",
       "│ dense_3 (\u001B[38;5;33mDense\u001B[0m)                 │ (\u001B[38;5;45mNone\u001B[0m, \u001B[38;5;34m1\u001B[0m)              │            \u001B[38;5;34m17\u001B[0m │\n",
       "└─────────────────────────────────┴────────────────────────┴───────────────┘\n"
      ]
     },
     "metadata": {},
     "output_type": "display_data"
    },
    {
     "data": {
      "text/html": [
       "<pre style=\"white-space:pre;overflow-x:auto;line-height:normal;font-family:Menlo,'DejaVu Sans Mono',consolas,'Courier New',monospace\"><span style=\"font-weight: bold\"> Total params: </span><span style=\"color: #00af00; text-decoration-color: #00af00\">9,413</span> (36.77 KB)\n",
       "</pre>\n"
      ],
      "text/plain": [
       "\u001B[1m Total params: \u001B[0m\u001B[38;5;34m9,413\u001B[0m (36.77 KB)\n"
      ]
     },
     "metadata": {},
     "output_type": "display_data"
    },
    {
     "data": {
      "text/html": [
       "<pre style=\"white-space:pre;overflow-x:auto;line-height:normal;font-family:Menlo,'DejaVu Sans Mono',consolas,'Courier New',monospace\"><span style=\"font-weight: bold\"> Trainable params: </span><span style=\"color: #00af00; text-decoration-color: #00af00\">3,137</span> (12.25 KB)\n",
       "</pre>\n"
      ],
      "text/plain": [
       "\u001B[1m Trainable params: \u001B[0m\u001B[38;5;34m3,137\u001B[0m (12.25 KB)\n"
      ]
     },
     "metadata": {},
     "output_type": "display_data"
    },
    {
     "data": {
      "text/html": [
       "<pre style=\"white-space:pre;overflow-x:auto;line-height:normal;font-family:Menlo,'DejaVu Sans Mono',consolas,'Courier New',monospace\"><span style=\"font-weight: bold\"> Non-trainable params: </span><span style=\"color: #00af00; text-decoration-color: #00af00\">0</span> (0.00 B)\n",
       "</pre>\n"
      ],
      "text/plain": [
       "\u001B[1m Non-trainable params: \u001B[0m\u001B[38;5;34m0\u001B[0m (0.00 B)\n"
      ]
     },
     "metadata": {},
     "output_type": "display_data"
    },
    {
     "data": {
      "text/html": [
       "<pre style=\"white-space:pre;overflow-x:auto;line-height:normal;font-family:Menlo,'DejaVu Sans Mono',consolas,'Courier New',monospace\"><span style=\"font-weight: bold\"> Optimizer params: </span><span style=\"color: #00af00; text-decoration-color: #00af00\">6,276</span> (24.52 KB)\n",
       "</pre>\n"
      ],
      "text/plain": [
       "\u001B[1m Optimizer params: \u001B[0m\u001B[38;5;34m6,276\u001B[0m (24.52 KB)\n"
      ]
     },
     "metadata": {},
     "output_type": "display_data"
    },
    {
     "name": "stdout",
     "output_type": "stream",
     "text": [
      "Epoch 1/50\n",
      "\u001B[1m989/989\u001B[0m \u001B[32m━━━━━━━━━━━━━━━━━━━━\u001B[0m\u001B[37m\u001B[0m \u001B[1m4s\u001B[0m 2ms/step - accuracy: 0.7426 - loss: 0.5201 - val_accuracy: 0.6204 - val_loss: 0.6275\n",
      "Epoch 2/50\n",
      "\u001B[1m989/989\u001B[0m \u001B[32m━━━━━━━━━━━━━━━━━━━━\u001B[0m\u001B[37m\u001B[0m \u001B[1m3s\u001B[0m 3ms/step - accuracy: 0.7750 - loss: 0.4606 - val_accuracy: 0.6721 - val_loss: 0.6062\n",
      "Epoch 3/50\n",
      "\u001B[1m989/989\u001B[0m \u001B[32m━━━━━━━━━━━━━━━━━━━━\u001B[0m\u001B[37m\u001B[0m \u001B[1m2s\u001B[0m 2ms/step - accuracy: 0.7782 - loss: 0.4582 - val_accuracy: 0.6134 - val_loss: 0.6512\n",
      "Epoch 4/50\n",
      "\u001B[1m989/989\u001B[0m \u001B[32m━━━━━━━━━━━━━━━━━━━━\u001B[0m\u001B[37m\u001B[0m \u001B[1m2s\u001B[0m 2ms/step - accuracy: 0.7799 - loss: 0.4518 - val_accuracy: 0.6946 - val_loss: 0.5980\n",
      "Epoch 5/50\n",
      "\u001B[1m989/989\u001B[0m \u001B[32m━━━━━━━━━━━━━━━━━━━━\u001B[0m\u001B[37m\u001B[0m \u001B[1m2s\u001B[0m 2ms/step - accuracy: 0.7787 - loss: 0.4506 - val_accuracy: 0.6502 - val_loss: 0.6347\n",
      "Epoch 6/50\n",
      "\u001B[1m989/989\u001B[0m \u001B[32m━━━━━━━━━━━━━━━━━━━━\u001B[0m\u001B[37m\u001B[0m \u001B[1m2s\u001B[0m 2ms/step - accuracy: 0.7794 - loss: 0.4504 - val_accuracy: 0.7204 - val_loss: 0.5678\n",
      "Epoch 7/50\n",
      "\u001B[1m989/989\u001B[0m \u001B[32m━━━━━━━━━━━━━━━━━━━━\u001B[0m\u001B[37m\u001B[0m \u001B[1m2s\u001B[0m 2ms/step - accuracy: 0.7860 - loss: 0.4448 - val_accuracy: 0.7132 - val_loss: 0.5409\n",
      "Epoch 8/50\n",
      "\u001B[1m989/989\u001B[0m \u001B[32m━━━━━━━━━━━━━━━━━━━━\u001B[0m\u001B[37m\u001B[0m \u001B[1m2s\u001B[0m 2ms/step - accuracy: 0.7836 - loss: 0.4419 - val_accuracy: 0.6920 - val_loss: 0.5709\n",
      "Epoch 9/50\n",
      "\u001B[1m989/989\u001B[0m \u001B[32m━━━━━━━━━━━━━━━━━━━━\u001B[0m\u001B[37m\u001B[0m \u001B[1m3s\u001B[0m 3ms/step - accuracy: 0.7797 - loss: 0.4478 - val_accuracy: 0.6838 - val_loss: 0.5832\n",
      "Epoch 10/50\n",
      "\u001B[1m989/989\u001B[0m \u001B[32m━━━━━━━━━━━━━━━━━━━━\u001B[0m\u001B[37m\u001B[0m \u001B[1m2s\u001B[0m 2ms/step - accuracy: 0.7801 - loss: 0.4468 - val_accuracy: 0.7077 - val_loss: 0.6056\n",
      "Epoch 11/50\n",
      "\u001B[1m989/989\u001B[0m \u001B[32m━━━━━━━━━━━━━━━━━━━━\u001B[0m\u001B[37m\u001B[0m \u001B[1m2s\u001B[0m 2ms/step - accuracy: 0.7806 - loss: 0.4472 - val_accuracy: 0.6758 - val_loss: 0.5978\n",
      "Epoch 12/50\n",
      "\u001B[1m989/989\u001B[0m \u001B[32m━━━━━━━━━━━━━━━━━━━━\u001B[0m\u001B[37m\u001B[0m \u001B[1m2s\u001B[0m 2ms/step - accuracy: 0.7788 - loss: 0.4420 - val_accuracy: 0.7006 - val_loss: 0.5660\n",
      "Epoch 13/50\n",
      "\u001B[1m989/989\u001B[0m \u001B[32m━━━━━━━━━━━━━━━━━━━━\u001B[0m\u001B[37m\u001B[0m \u001B[1m2s\u001B[0m 2ms/step - accuracy: 0.7788 - loss: 0.4475 - val_accuracy: 0.7008 - val_loss: 0.6050\n",
      "Epoch 14/50\n",
      "\u001B[1m989/989\u001B[0m \u001B[32m━━━━━━━━━━━━━━━━━━━━\u001B[0m\u001B[37m\u001B[0m \u001B[1m2s\u001B[0m 2ms/step - accuracy: 0.7737 - loss: 0.4559 - val_accuracy: 0.6582 - val_loss: 0.6118\n",
      "Epoch 15/50\n",
      "\u001B[1m989/989\u001B[0m \u001B[32m━━━━━━━━━━━━━━━━━━━━\u001B[0m\u001B[37m\u001B[0m \u001B[1m3s\u001B[0m 3ms/step - accuracy: 0.7835 - loss: 0.4454 - val_accuracy: 0.6651 - val_loss: 0.6365\n",
      "Epoch 16/50\n",
      "\u001B[1m989/989\u001B[0m \u001B[32m━━━━━━━━━━━━━━━━━━━━\u001B[0m\u001B[37m\u001B[0m \u001B[1m4s\u001B[0m 5ms/step - accuracy: 0.7859 - loss: 0.4393 - val_accuracy: 0.6906 - val_loss: 0.5810\n",
      "Epoch 17/50\n",
      "\u001B[1m989/989\u001B[0m \u001B[32m━━━━━━━━━━━━━━━━━━━━\u001B[0m\u001B[37m\u001B[0m \u001B[1m2s\u001B[0m 2ms/step - accuracy: 0.7865 - loss: 0.4444 - val_accuracy: 0.7066 - val_loss: 0.5806\n",
      "Epoch 18/50\n",
      "\u001B[1m989/989\u001B[0m \u001B[32m━━━━━━━━━━━━━━━━━━━━\u001B[0m\u001B[37m\u001B[0m \u001B[1m2s\u001B[0m 2ms/step - accuracy: 0.7815 - loss: 0.4448 - val_accuracy: 0.6694 - val_loss: 0.5919\n",
      "Epoch 19/50\n",
      "\u001B[1m989/989\u001B[0m \u001B[32m━━━━━━━━━━━━━━━━━━━━\u001B[0m\u001B[37m\u001B[0m \u001B[1m2s\u001B[0m 2ms/step - accuracy: 0.7865 - loss: 0.4399 - val_accuracy: 0.7015 - val_loss: 0.5771\n",
      "Epoch 20/50\n",
      "\u001B[1m989/989\u001B[0m \u001B[32m━━━━━━━━━━━━━━━━━━━━\u001B[0m\u001B[37m\u001B[0m \u001B[1m2s\u001B[0m 2ms/step - accuracy: 0.7876 - loss: 0.4346 - val_accuracy: 0.7272 - val_loss: 0.5429\n",
      "Epoch 21/50\n",
      "\u001B[1m989/989\u001B[0m \u001B[32m━━━━━━━━━━━━━━━━━━━━\u001B[0m\u001B[37m\u001B[0m \u001B[1m2s\u001B[0m 2ms/step - accuracy: 0.7809 - loss: 0.4414 - val_accuracy: 0.6780 - val_loss: 0.5719\n",
      "Epoch 22/50\n",
      "\u001B[1m989/989\u001B[0m \u001B[32m━━━━━━━━━━━━━━━━━━━━\u001B[0m\u001B[37m\u001B[0m \u001B[1m3s\u001B[0m 3ms/step - accuracy: 0.7811 - loss: 0.4425 - val_accuracy: 0.6802 - val_loss: 0.6005\n",
      "Epoch 23/50\n",
      "\u001B[1m989/989\u001B[0m \u001B[32m━━━━━━━━━━━━━━━━━━━━\u001B[0m\u001B[37m\u001B[0m \u001B[1m2s\u001B[0m 2ms/step - accuracy: 0.7889 - loss: 0.4361 - val_accuracy: 0.7089 - val_loss: 0.6027\n",
      "Epoch 24/50\n",
      "\u001B[1m989/989\u001B[0m \u001B[32m━━━━━━━━━━━━━━━━━━━━\u001B[0m\u001B[37m\u001B[0m \u001B[1m2s\u001B[0m 2ms/step - accuracy: 0.7847 - loss: 0.4442 - val_accuracy: 0.6368 - val_loss: 0.6514\n",
      "Epoch 25/50\n",
      "\u001B[1m989/989\u001B[0m \u001B[32m━━━━━━━━━━━━━━━━━━━━\u001B[0m\u001B[37m\u001B[0m \u001B[1m2s\u001B[0m 2ms/step - accuracy: 0.7867 - loss: 0.4390 - val_accuracy: 0.6927 - val_loss: 0.5888\n",
      "Epoch 26/50\n",
      "\u001B[1m989/989\u001B[0m \u001B[32m━━━━━━━━━━━━━━━━━━━━\u001B[0m\u001B[37m\u001B[0m \u001B[1m2s\u001B[0m 2ms/step - accuracy: 0.7846 - loss: 0.4417 - val_accuracy: 0.6857 - val_loss: 0.6019\n",
      "Epoch 27/50\n",
      "\u001B[1m989/989\u001B[0m \u001B[32m━━━━━━━━━━━━━━━━━━━━\u001B[0m\u001B[37m\u001B[0m \u001B[1m2s\u001B[0m 2ms/step - accuracy: 0.7834 - loss: 0.4423 - val_accuracy: 0.7089 - val_loss: 0.5920\n",
      "Epoch 28/50\n",
      "\u001B[1m989/989\u001B[0m \u001B[32m━━━━━━━━━━━━━━━━━━━━\u001B[0m\u001B[37m\u001B[0m \u001B[1m2s\u001B[0m 2ms/step - accuracy: 0.7811 - loss: 0.4410 - val_accuracy: 0.7066 - val_loss: 0.5759\n",
      "Epoch 29/50\n",
      "\u001B[1m989/989\u001B[0m \u001B[32m━━━━━━━━━━━━━━━━━━━━\u001B[0m\u001B[37m\u001B[0m \u001B[1m3s\u001B[0m 3ms/step - accuracy: 0.7835 - loss: 0.4403 - val_accuracy: 0.7044 - val_loss: 0.5915\n",
      "Epoch 30/50\n",
      "\u001B[1m989/989\u001B[0m \u001B[32m━━━━━━━━━━━━━━━━━━━━\u001B[0m\u001B[37m\u001B[0m \u001B[1m2s\u001B[0m 2ms/step - accuracy: 0.7825 - loss: 0.4410 - val_accuracy: 0.6910 - val_loss: 0.6193\n",
      "Epoch 31/50\n",
      "\u001B[1m989/989\u001B[0m \u001B[32m━━━━━━━━━━━━━━━━━━━━\u001B[0m\u001B[37m\u001B[0m \u001B[1m2s\u001B[0m 2ms/step - accuracy: 0.7876 - loss: 0.4353 - val_accuracy: 0.7099 - val_loss: 0.5805\n",
      "Epoch 32/50\n",
      "\u001B[1m989/989\u001B[0m \u001B[32m━━━━━━━━━━━━━━━━━━━━\u001B[0m\u001B[37m\u001B[0m \u001B[1m2s\u001B[0m 2ms/step - accuracy: 0.7829 - loss: 0.4371 - val_accuracy: 0.6921 - val_loss: 0.6098\n",
      "Epoch 33/50\n",
      "\u001B[1m989/989\u001B[0m \u001B[32m━━━━━━━━━━━━━━━━━━━━\u001B[0m\u001B[37m\u001B[0m \u001B[1m2s\u001B[0m 2ms/step - accuracy: 0.7912 - loss: 0.4313 - val_accuracy: 0.7003 - val_loss: 0.6185\n",
      "Epoch 34/50\n",
      "\u001B[1m989/989\u001B[0m \u001B[32m━━━━━━━━━━━━━━━━━━━━\u001B[0m\u001B[37m\u001B[0m \u001B[1m2s\u001B[0m 2ms/step - accuracy: 0.7906 - loss: 0.4304 - val_accuracy: 0.6991 - val_loss: 0.5935\n",
      "Epoch 35/50\n",
      "\u001B[1m989/989\u001B[0m \u001B[32m━━━━━━━━━━━━━━━━━━━━\u001B[0m\u001B[37m\u001B[0m \u001B[1m2s\u001B[0m 2ms/step - accuracy: 0.7852 - loss: 0.4380 - val_accuracy: 0.6738 - val_loss: 0.6394\n",
      "Epoch 36/50\n",
      "\u001B[1m989/989\u001B[0m \u001B[32m━━━━━━━━━━━━━━━━━━━━\u001B[0m\u001B[37m\u001B[0m \u001B[1m2s\u001B[0m 2ms/step - accuracy: 0.7891 - loss: 0.4354 - val_accuracy: 0.6762 - val_loss: 0.6126\n",
      "Epoch 37/50\n",
      "\u001B[1m989/989\u001B[0m \u001B[32m━━━━━━━━━━━━━━━━━━━━\u001B[0m\u001B[37m\u001B[0m \u001B[1m3s\u001B[0m 3ms/step - accuracy: 0.7857 - loss: 0.4358 - val_accuracy: 0.7068 - val_loss: 0.5957\n",
      "Epoch 38/50\n",
      "\u001B[1m989/989\u001B[0m \u001B[32m━━━━━━━━━━━━━━━━━━━━\u001B[0m\u001B[37m\u001B[0m \u001B[1m2s\u001B[0m 2ms/step - accuracy: 0.7902 - loss: 0.4324 - val_accuracy: 0.7252 - val_loss: 0.5829\n",
      "Epoch 39/50\n",
      "\u001B[1m989/989\u001B[0m \u001B[32m━━━━━━━━━━━━━━━━━━━━\u001B[0m\u001B[37m\u001B[0m \u001B[1m2s\u001B[0m 2ms/step - accuracy: 0.7842 - loss: 0.4360 - val_accuracy: 0.6953 - val_loss: 0.5863\n",
      "Epoch 40/50\n",
      "\u001B[1m989/989\u001B[0m \u001B[32m━━━━━━━━━━━━━━━━━━━━\u001B[0m\u001B[37m\u001B[0m \u001B[1m2s\u001B[0m 2ms/step - accuracy: 0.7865 - loss: 0.4378 - val_accuracy: 0.6723 - val_loss: 0.6137\n",
      "Epoch 41/50\n",
      "\u001B[1m989/989\u001B[0m \u001B[32m━━━━━━━━━━━━━━━━━━━━\u001B[0m\u001B[37m\u001B[0m \u001B[1m2s\u001B[0m 2ms/step - accuracy: 0.7881 - loss: 0.4385 - val_accuracy: 0.7256 - val_loss: 0.5605\n",
      "Epoch 42/50\n",
      "\u001B[1m989/989\u001B[0m \u001B[32m━━━━━━━━━━━━━━━━━━━━\u001B[0m\u001B[37m\u001B[0m \u001B[1m3s\u001B[0m 3ms/step - accuracy: 0.7882 - loss: 0.4356 - val_accuracy: 0.6915 - val_loss: 0.6181\n",
      "Epoch 43/50\n",
      "\u001B[1m989/989\u001B[0m \u001B[32m━━━━━━━━━━━━━━━━━━━━\u001B[0m\u001B[37m\u001B[0m \u001B[1m5s\u001B[0m 5ms/step - accuracy: 0.7841 - loss: 0.4341 - val_accuracy: 0.6903 - val_loss: 0.6077\n",
      "Epoch 44/50\n",
      "\u001B[1m989/989\u001B[0m \u001B[32m━━━━━━━━━━━━━━━━━━━━\u001B[0m\u001B[37m\u001B[0m \u001B[1m2s\u001B[0m 2ms/step - accuracy: 0.7901 - loss: 0.4314 - val_accuracy: 0.7168 - val_loss: 0.5813\n",
      "Epoch 45/50\n",
      "\u001B[1m989/989\u001B[0m \u001B[32m━━━━━━━━━━━━━━━━━━━━\u001B[0m\u001B[37m\u001B[0m \u001B[1m2s\u001B[0m 2ms/step - accuracy: 0.7873 - loss: 0.4334 - val_accuracy: 0.7131 - val_loss: 0.6009\n",
      "Epoch 46/50\n",
      "\u001B[1m989/989\u001B[0m \u001B[32m━━━━━━━━━━━━━━━━━━━━\u001B[0m\u001B[37m\u001B[0m \u001B[1m2s\u001B[0m 2ms/step - accuracy: 0.7862 - loss: 0.4353 - val_accuracy: 0.7001 - val_loss: 0.5932\n",
      "Epoch 47/50\n",
      "\u001B[1m989/989\u001B[0m \u001B[32m━━━━━━━━━━━━━━━━━━━━\u001B[0m\u001B[37m\u001B[0m \u001B[1m2s\u001B[0m 2ms/step - accuracy: 0.7906 - loss: 0.4343 - val_accuracy: 0.7007 - val_loss: 0.6243\n",
      "Epoch 48/50\n",
      "\u001B[1m989/989\u001B[0m \u001B[32m━━━━━━━━━━━━━━━━━━━━\u001B[0m\u001B[37m\u001B[0m \u001B[1m2s\u001B[0m 2ms/step - accuracy: 0.7884 - loss: 0.4324 - val_accuracy: 0.7111 - val_loss: 0.5714\n",
      "Epoch 49/50\n",
      "\u001B[1m989/989\u001B[0m \u001B[32m━━━━━━━━━━━━━━━━━━━━\u001B[0m\u001B[37m\u001B[0m \u001B[1m3s\u001B[0m 3ms/step - accuracy: 0.7854 - loss: 0.4395 - val_accuracy: 0.6799 - val_loss: 0.6146\n",
      "Epoch 50/50\n",
      "\u001B[1m989/989\u001B[0m \u001B[32m━━━━━━━━━━━━━━━━━━━━\u001B[0m\u001B[37m\u001B[0m \u001B[1m2s\u001B[0m 2ms/step - accuracy: 0.7837 - loss: 0.4378 - val_accuracy: 0.7171 - val_loss: 0.5415\n"
     ]
    },
    {
     "data": {
      "text/html": [
       "<pre style=\"white-space:pre;overflow-x:auto;line-height:normal;font-family:Menlo,'DejaVu Sans Mono',consolas,'Courier New',monospace\"><span style=\"font-weight: bold\">Model: \"sequential_1\"</span>\n",
       "</pre>\n"
      ],
      "text/plain": [
       "\u001B[1mModel: \"sequential_1\"\u001B[0m\n"
      ]
     },
     "metadata": {},
     "output_type": "display_data"
    },
    {
     "data": {
      "text/html": [
       "<pre style=\"white-space:pre;overflow-x:auto;line-height:normal;font-family:Menlo,'DejaVu Sans Mono',consolas,'Courier New',monospace\">┏━━━━━━━━━━━━━━━━━━━━━━━━━━━━━━━━━┳━━━━━━━━━━━━━━━━━━━━━━━━┳━━━━━━━━━━━━━━━┓\n",
       "┃<span style=\"font-weight: bold\"> Layer (type)                    </span>┃<span style=\"font-weight: bold\"> Output Shape           </span>┃<span style=\"font-weight: bold\">       Param # </span>┃\n",
       "┡━━━━━━━━━━━━━━━━━━━━━━━━━━━━━━━━━╇━━━━━━━━━━━━━━━━━━━━━━━━╇━━━━━━━━━━━━━━━┩\n",
       "│ dense_4 (<span style=\"color: #0087ff; text-decoration-color: #0087ff\">Dense</span>)                 │ (<span style=\"color: #00d7ff; text-decoration-color: #00d7ff\">None</span>, <span style=\"color: #00af00; text-decoration-color: #00af00\">64</span>)             │           <span style=\"color: #00af00; text-decoration-color: #00af00\">512</span> │\n",
       "├─────────────────────────────────┼────────────────────────┼───────────────┤\n",
       "│ dense_5 (<span style=\"color: #0087ff; text-decoration-color: #0087ff\">Dense</span>)                 │ (<span style=\"color: #00d7ff; text-decoration-color: #00d7ff\">None</span>, <span style=\"color: #00af00; text-decoration-color: #00af00\">32</span>)             │         <span style=\"color: #00af00; text-decoration-color: #00af00\">2,080</span> │\n",
       "├─────────────────────────────────┼────────────────────────┼───────────────┤\n",
       "│ dropout_1 (<span style=\"color: #0087ff; text-decoration-color: #0087ff\">Dropout</span>)             │ (<span style=\"color: #00d7ff; text-decoration-color: #00d7ff\">None</span>, <span style=\"color: #00af00; text-decoration-color: #00af00\">32</span>)             │             <span style=\"color: #00af00; text-decoration-color: #00af00\">0</span> │\n",
       "├─────────────────────────────────┼────────────────────────┼───────────────┤\n",
       "│ dense_6 (<span style=\"color: #0087ff; text-decoration-color: #0087ff\">Dense</span>)                 │ (<span style=\"color: #00d7ff; text-decoration-color: #00d7ff\">None</span>, <span style=\"color: #00af00; text-decoration-color: #00af00\">16</span>)             │           <span style=\"color: #00af00; text-decoration-color: #00af00\">528</span> │\n",
       "├─────────────────────────────────┼────────────────────────┼───────────────┤\n",
       "│ dense_7 (<span style=\"color: #0087ff; text-decoration-color: #0087ff\">Dense</span>)                 │ (<span style=\"color: #00d7ff; text-decoration-color: #00d7ff\">None</span>, <span style=\"color: #00af00; text-decoration-color: #00af00\">1</span>)              │            <span style=\"color: #00af00; text-decoration-color: #00af00\">17</span> │\n",
       "└─────────────────────────────────┴────────────────────────┴───────────────┘\n",
       "</pre>\n"
      ],
      "text/plain": [
       "┏━━━━━━━━━━━━━━━━━━━━━━━━━━━━━━━━━┳━━━━━━━━━━━━━━━━━━━━━━━━┳━━━━━━━━━━━━━━━┓\n",
       "┃\u001B[1m \u001B[0m\u001B[1mLayer (type)                   \u001B[0m\u001B[1m \u001B[0m┃\u001B[1m \u001B[0m\u001B[1mOutput Shape          \u001B[0m\u001B[1m \u001B[0m┃\u001B[1m \u001B[0m\u001B[1m      Param #\u001B[0m\u001B[1m \u001B[0m┃\n",
       "┡━━━━━━━━━━━━━━━━━━━━━━━━━━━━━━━━━╇━━━━━━━━━━━━━━━━━━━━━━━━╇━━━━━━━━━━━━━━━┩\n",
       "│ dense_4 (\u001B[38;5;33mDense\u001B[0m)                 │ (\u001B[38;5;45mNone\u001B[0m, \u001B[38;5;34m64\u001B[0m)             │           \u001B[38;5;34m512\u001B[0m │\n",
       "├─────────────────────────────────┼────────────────────────┼───────────────┤\n",
       "│ dense_5 (\u001B[38;5;33mDense\u001B[0m)                 │ (\u001B[38;5;45mNone\u001B[0m, \u001B[38;5;34m32\u001B[0m)             │         \u001B[38;5;34m2,080\u001B[0m │\n",
       "├─────────────────────────────────┼────────────────────────┼───────────────┤\n",
       "│ dropout_1 (\u001B[38;5;33mDropout\u001B[0m)             │ (\u001B[38;5;45mNone\u001B[0m, \u001B[38;5;34m32\u001B[0m)             │             \u001B[38;5;34m0\u001B[0m │\n",
       "├─────────────────────────────────┼────────────────────────┼───────────────┤\n",
       "│ dense_6 (\u001B[38;5;33mDense\u001B[0m)                 │ (\u001B[38;5;45mNone\u001B[0m, \u001B[38;5;34m16\u001B[0m)             │           \u001B[38;5;34m528\u001B[0m │\n",
       "├─────────────────────────────────┼────────────────────────┼───────────────┤\n",
       "│ dense_7 (\u001B[38;5;33mDense\u001B[0m)                 │ (\u001B[38;5;45mNone\u001B[0m, \u001B[38;5;34m1\u001B[0m)              │            \u001B[38;5;34m17\u001B[0m │\n",
       "└─────────────────────────────────┴────────────────────────┴───────────────┘\n"
      ]
     },
     "metadata": {},
     "output_type": "display_data"
    },
    {
     "data": {
      "text/html": [
       "<pre style=\"white-space:pre;overflow-x:auto;line-height:normal;font-family:Menlo,'DejaVu Sans Mono',consolas,'Courier New',monospace\"><span style=\"font-weight: bold\"> Total params: </span><span style=\"color: #00af00; text-decoration-color: #00af00\">9,413</span> (36.77 KB)\n",
       "</pre>\n"
      ],
      "text/plain": [
       "\u001B[1m Total params: \u001B[0m\u001B[38;5;34m9,413\u001B[0m (36.77 KB)\n"
      ]
     },
     "metadata": {},
     "output_type": "display_data"
    },
    {
     "data": {
      "text/html": [
       "<pre style=\"white-space:pre;overflow-x:auto;line-height:normal;font-family:Menlo,'DejaVu Sans Mono',consolas,'Courier New',monospace\"><span style=\"font-weight: bold\"> Trainable params: </span><span style=\"color: #00af00; text-decoration-color: #00af00\">3,137</span> (12.25 KB)\n",
       "</pre>\n"
      ],
      "text/plain": [
       "\u001B[1m Trainable params: \u001B[0m\u001B[38;5;34m3,137\u001B[0m (12.25 KB)\n"
      ]
     },
     "metadata": {},
     "output_type": "display_data"
    },
    {
     "data": {
      "text/html": [
       "<pre style=\"white-space:pre;overflow-x:auto;line-height:normal;font-family:Menlo,'DejaVu Sans Mono',consolas,'Courier New',monospace\"><span style=\"font-weight: bold\"> Non-trainable params: </span><span style=\"color: #00af00; text-decoration-color: #00af00\">0</span> (0.00 B)\n",
       "</pre>\n"
      ],
      "text/plain": [
       "\u001B[1m Non-trainable params: \u001B[0m\u001B[38;5;34m0\u001B[0m (0.00 B)\n"
      ]
     },
     "metadata": {},
     "output_type": "display_data"
    },
    {
     "data": {
      "text/html": [
       "<pre style=\"white-space:pre;overflow-x:auto;line-height:normal;font-family:Menlo,'DejaVu Sans Mono',consolas,'Courier New',monospace\"><span style=\"font-weight: bold\"> Optimizer params: </span><span style=\"color: #00af00; text-decoration-color: #00af00\">6,276</span> (24.52 KB)\n",
       "</pre>\n"
      ],
      "text/plain": [
       "\u001B[1m Optimizer params: \u001B[0m\u001B[38;5;34m6,276\u001B[0m (24.52 KB)\n"
      ]
     },
     "metadata": {},
     "output_type": "display_data"
    }
   ],
   "source": [
    "#your code here:\n",
    "# 1) First Method\n",
    "\n",
    "# Define the model architecture\n",
    "model_first = Sequential()\n",
    "model_first.add(Dense(64, input_dim=X_train_first_balanced_classification.shape[1], activation='relu'))\n",
    "model_first.add(Dense(32, activation='relu'))\n",
    "model_first.add(Dropout(0.5))  # Dropout to prevent overfitting\n",
    "model_first.add(Dense(16, activation='relu'))\n",
    "model_first.add(Dense(1, activation='sigmoid'))\n",
    "\n",
    "# Compile the model\n",
    "model_first.compile(optimizer=Adam(learning_rate=0.001), loss='binary_crossentropy', metrics=['accuracy'])\n",
    "\n",
    "# Train the model\n",
    "history_first = model_first.fit(X_train_first_balanced_classification, y_train_first_encoded_classification, epochs=50, batch_size=32, validation_split=0.2)\n",
    "\n",
    "# Summary of the model\n",
    "model_first.summary()\n",
    "\n",
    "# 2) Second Method\n",
    "# Define the model architecture\n",
    "model_second = Sequential()\n",
    "model_second.add(Dense(64, input_dim=X_train_second_balanced_classification.shape[1], activation='relu'))\n",
    "model_second.add(Dense(32, activation='relu'))\n",
    "model_second.add(Dropout(0.5))  # Dropout to prevent overfitting\n",
    "model_second.add(Dense(16, activation='relu'))\n",
    "model_second.add(Dense(1, activation='sigmoid'))\n",
    "\n",
    "# Compile the model\n",
    "model_second.compile(optimizer=Adam(learning_rate=0.001), loss='binary_crossentropy', metrics=['accuracy'])\n",
    "\n",
    "# Train the model\n",
    "history_second = model_second.fit(X_train_second_balanced_classification, y_train_second_encoded_classification, epochs=50, batch_size=32, validation_split=0.2)\n",
    "\n",
    "# Summary of the model\n",
    "model_second.summary()"
   ]
  },
  {
   "cell_type": "markdown",
   "metadata": {
    "id": "IrdwJiEdkzP4"
   },
   "source": [
    "#Explain the structure of the network: how many layers? what layers? how manny weights/coefficients/parameters are there in your network? (2-3 sentences)"
   ]
  },
  {
   "cell_type": "markdown",
   "metadata": {
    "id": "bKUQFV4blHX1"
   },
   "source": [
    "#Your answer here: <br>\n",
    "Both neural network consists of 4 layers: three hidden layers and one output layer. The first hidden layer has 64 neurons, the second 32 and the last one 16 neurons, using ReLU activation functions. We also used A dropout layer with a rate of 0.5 for preventing overfitting. The output layer has 1 neuron with a sigmoid activation function for binary classification. In total, the network has 9,413 parameters where 3,137 are trainable, and 6,276 are related to the optimizer parameters."
   ]
  },
  {
   "cell_type": "markdown",
   "metadata": {
    "id": "WXR9AHo9Y3gJ"
   },
   "source": [
    "#9. a. Predict the y variable on both the train set and the test set (for both imputed datasets and for both algorithms - 16 predictions in total):\n",
    "2 imputed datasets * 4 models * (train+test)\n",
    "\n",
    "and print the accuracy of each prediction.\n",
    "\n"
   ]
  },
  {
   "cell_type": "code",
   "execution_count": 20,
   "metadata": {
    "id": "OGXWpYFLZyHh"
   },
   "outputs": [
    {
     "name": "stdout",
     "output_type": "stream",
     "text": [
      "\u001B[1mRandom Forest:\u001B[0m\n",
      "Accuracy for Random Forest on First Imputed Dataset - Train Set: 0.9981292345029831\n",
      "Accuracy for Random Forest on First Imputed Dataset - Test Set: 0.7931828650391525\n",
      "\n",
      "\u001B[1mXGBoost:\u001B[0m\n",
      "Accuracy for XGBoost on First Imputed Dataset - Train Set: 0.897689351805036\n",
      "Accuracy for XGBoost on First Imputed Dataset - Test Set: 0.8192845079072624\n",
      "\n",
      "\u001B[1mHistGradientBoosting:\u001B[0m\n",
      "Accuracy for HistGradientBoosting on First Imputed Dataset - Train Set: 0.8640914147032056\n",
      "Accuracy for HistGradientBoosting on First Imputed Dataset - Test Set: 0.8037770612620913\n",
      "\n",
      "\u001B[1m1237/1237\u001B[0m \u001B[32m━━━━━━━━━━━━━━━━━━━━\u001B[0m\u001B[37m\u001B[0m \u001B[1m2s\u001B[0m 1ms/step\n",
      "\u001B[1m204/204\u001B[0m \u001B[32m━━━━━━━━━━━━━━━━━━━━\u001B[0m\u001B[37m\u001B[0m \u001B[1m0s\u001B[0m 1ms/step\n",
      "\u001B[1mNeural Network:\u001B[0m\n",
      "Accuracy for Neural Network on First Imputed Dataset - Train Set: 0.7643088279906968\n",
      "Accuracy for Neural Network on First Imputed Dataset - Test Set: 0.8165208045447566\n",
      "\n",
      "\u001B[1mRandom Forest:\u001B[0m\n",
      "Accuracy for Random Forest on Second Imputed Dataset - Train Set: 0.9980281120436849\n",
      "Accuracy for Random Forest on Second Imputed Dataset - Test Set: 0.7898050053738677\n",
      "\n",
      "\u001B[1mXGBoost:\u001B[0m\n",
      "Accuracy for XGBoost on Second Imputed Dataset - Train Set: 0.8978157548791587\n",
      "Accuracy for XGBoost on Second Imputed Dataset - Test Set: 0.8165208045447566\n",
      "\n",
      "\u001B[1mHistGradientBoosting:\u001B[0m\n",
      "Accuracy for HistGradientBoosting on Second Imputed Dataset - Train Set: 0.8674537364748711\n",
      "Accuracy for HistGradientBoosting on Second Imputed Dataset - Test Set: 0.8037770612620913\n",
      "\n",
      "\u001B[1m1237/1237\u001B[0m \u001B[32m━━━━━━━━━━━━━━━━━━━━\u001B[0m\u001B[37m\u001B[0m \u001B[1m2s\u001B[0m 1ms/step\n",
      "\u001B[1m204/204\u001B[0m \u001B[32m━━━━━━━━━━━━━━━━━━━━\u001B[0m\u001B[37m\u001B[0m \u001B[1m0s\u001B[0m 1ms/step\n",
      "\u001B[1mNeural Network:\u001B[0m\n",
      "Accuracy for Neural Network on Second Imputed Dataset - Train Set: 0.7753817372838507\n",
      "Accuracy for Neural Network on Second Imputed Dataset - Test Set: 0.7970213419315215\n",
      "\n"
     ]
    }
   ],
   "source": [
    "models = {\n",
    "    \"Random Forest\": [rf_grid_first, rf_grid_second],\n",
    "    \"XGBoost\": [xgb_grid_first, xgb_grid_second],\n",
    "    \"HistGradientBoosting\": [hgb_grid_first, hgb_grid_second],\n",
    "    \"Neural Network\": [model_first, model_second]  # Assuming Keras models for both datasets\n",
    "}\n",
    "\n",
    "imputed_datasets = [\"First Imputed Dataset\", \"Second Imputed Dataset\"]\n",
    "label_encoders = [label_encoder_first, label_encoder_second]\n",
    "X_train_sets_classification = [X_train_first_balanced_classification, X_train_second_balanced_classification]\n",
    "X_test_sets_classification = [X_test_first_scaled_classification, X_test_second_scaled_classification]\n",
    "y_train_sets_classification = [y_train_first_encoded_classification, y_train_second_encoded_classification]\n",
    "y_test_sets_classification = [y_test_first_encoded_classification, y_test_second_encoded_classification]\n",
    "\n",
    "\n",
    "def evaluate_models(models, imputed_datasets, label_encoders, X_train_sets, X_test_sets, y_train_sets, y_test_sets):\n",
    "    # Predicting on both train and test for each model and imputed dataset\n",
    "    for dataset_idx, dataset_name in enumerate(imputed_datasets):\n",
    "        label_encoder = label_encoders[dataset_idx]\n",
    "        X_train_classification = X_train_sets[dataset_idx]\n",
    "        X_test_classification = X_test_sets[dataset_idx]\n",
    "        y_train_classification = y_train_sets[dataset_idx]\n",
    "        y_test_classification = y_test_sets[dataset_idx]\n",
    "\n",
    "        for model_name, model_variants in models.items():\n",
    "            model = model_variants[dataset_idx]\n",
    "            \n",
    "            if model_name == \"Neural Network\":\n",
    "                # Neural network models have different predict method\n",
    "                y_train_pred_classification = (model.predict(X_train_classification) > 0.5).astype(\"int32\")\n",
    "                y_test_pred_classification = (model.predict(X_test_classification) > 0.5).astype(\"int32\")\n",
    "            else:\n",
    "                y_train_pred_classification = model.predict(X_train_classification)\n",
    "                y_test_pred_classification = model.predict(X_test_classification)\n",
    "\n",
    "            # Only apply inverse transformation to predictions\n",
    "            y_train_pred_classification = label_encoder.inverse_transform(y_train_pred_classification)\n",
    "            y_test_pred_classification = label_encoder.inverse_transform(y_test_pred_classification)\n",
    "\n",
    "            # Print accuracy with bold model name\n",
    "            print(f\"\\033[1m{model_name}:\\033[0m\")\n",
    "            print(f\"Accuracy for {model_name} on {dataset_name} - Train Set: {accuracy_score(label_encoder.inverse_transform(y_train_classification), y_train_pred_classification)}\")\n",
    "            print(f\"Accuracy for {model_name} on {dataset_name} - Test Set: {accuracy_score(label_encoder.inverse_transform(y_test_classification), y_test_pred_classification)}\")\n",
    "            print()\n",
    "\n",
    "evaluate_models(models, imputed_datasets, label_encoders, X_train_sets_classification, X_test_sets_classification, y_train_sets_classification, y_test_sets_classification)\n"
   ]
  },
  {
   "cell_type": "markdown",
   "metadata": {
    "id": "0q70fd0FZzqS"
   },
   "source": [
    "#b. Based on the accuracies of the predictions, verbally explain which model resulted with the best outcome with consideration to over-fitting, under-fitting and proper-fitting."
   ]
  },
  {
   "cell_type": "markdown",
   "metadata": {
    "id": "N8EIHUuGa5Cu"
   },
   "source": [
    "#Your answer here:\n",
    "Based on the accuracies, XGBoost provided the best outcome, and show good performance between on both training set (> 89%) and test set (>81%), which indicate proper-fitting and generalization. Random Forest showed  overfitting with very high training accuracy on both sets (>99%) compared to test accuracy (>78%). HistGradientBoosting also showed balanced fitting but with a bit less effective accuracies than XGBoost. The Neural Network showed potential underfitting with a lower training accuracy on both sets (>76%) compared to test accuracy (>79%), suggesting that it may benefit from more training."
   ]
  },
  {
   "cell_type": "markdown",
   "metadata": {
    "id": "QjsR7CqOaRnC"
   },
   "source": [
    "#Print the classification_report of the test set using the best model and verbally explain another quality measure of your choice."
   ]
  },
  {
   "cell_type": "code",
   "execution_count": 21,
   "metadata": {
    "id": "lqPM-0PVa1Ab"
   },
   "outputs": [
    {
     "name": "stdout",
     "output_type": "stream",
     "text": [
      "F1 Scores for All Models:\n",
      "\n",
      "Random Forest - First Imputed Dataset\n",
      "F1 Score on Train Set: 0.9981292342686409\n",
      "F1 Score on Test Set: 0.794084125843399\n",
      "\n",
      "--------------------------------------------------\n",
      "\n",
      "Random Forest - Second Imputed Dataset\n",
      "F1 Score on Train Set: 0.9980281117210603\n",
      "F1 Score on Test Set: 0.7916616472075105\n",
      "\n",
      "--------------------------------------------------\n",
      "\n",
      "XGBoost - First Imputed Dataset\n",
      "F1 Score on Train Set: 0.897652459775552\n",
      "F1 Score on Test Set: 0.8201470834086527\n",
      "\n",
      "--------------------------------------------------\n",
      "\n",
      "XGBoost - Second Imputed Dataset\n",
      "F1 Score on Train Set: 0.8977820764981156\n",
      "F1 Score on Test Set: 0.8187857366885654\n",
      "\n",
      "--------------------------------------------------\n",
      "\n",
      "HistGradientBoosting - First Imputed Dataset\n",
      "F1 Score on Train Set: 0.8640877285924949\n",
      "F1 Score on Test Set: 0.8086570282605945\n",
      "\n",
      "--------------------------------------------------\n",
      "\n",
      "HistGradientBoosting - Second Imputed Dataset\n",
      "F1 Score on Train Set: 0.8674505809783183\n",
      "F1 Score on Test Set: 0.8087854976912914\n",
      "\n",
      "--------------------------------------------------\n",
      "\n",
      "Neural Network - First Imputed Dataset\n",
      "\u001B[1m1237/1237\u001B[0m \u001B[32m━━━━━━━━━━━━━━━━━━━━\u001B[0m\u001B[37m\u001B[0m \u001B[1m1s\u001B[0m 1ms/step\n",
      "\u001B[1m204/204\u001B[0m \u001B[32m━━━━━━━━━━━━━━━━━━━━\u001B[0m\u001B[37m\u001B[0m \u001B[1m0s\u001B[0m 1ms/step\n",
      "F1 Score on Train Set: 0.7612338125622312\n",
      "F1 Score on Test Set: 0.8180683678938624\n",
      "\n",
      "--------------------------------------------------\n",
      "\n",
      "Neural Network - Second Imputed Dataset\n",
      "\u001B[1m1237/1237\u001B[0m \u001B[32m━━━━━━━━━━━━━━━━━━━━\u001B[0m\u001B[37m\u001B[0m \u001B[1m2s\u001B[0m 1ms/step\n",
      "\u001B[1m204/204\u001B[0m \u001B[32m━━━━━━━━━━━━━━━━━━━━\u001B[0m\u001B[37m\u001B[0m \u001B[1m1s\u001B[0m 2ms/step\n",
      "F1 Score on Train Set: 0.7746739249900468\n",
      "F1 Score on Test Set: 0.8043439586628541\n",
      "\n",
      "--------------------------------------------------\n",
      "\n",
      "Classification Report for Best Models (XGBoost):\n",
      "\n",
      "Classification Report for First Imputed Dataset:\n",
      "Classification Report on Test Set:\n",
      "              precision    recall  f1-score   support\n",
      "\n",
      "       <=50K       0.88      0.88      0.88      4942\n",
      "        >50K       0.62      0.64      0.63      1571\n",
      "\n",
      "    accuracy                           0.82      6513\n",
      "   macro avg       0.75      0.76      0.76      6513\n",
      "weighted avg       0.82      0.82      0.82      6513\n",
      "\n",
      "\n",
      "==================================================\n",
      "\n",
      "Classification Report for Second Imputed Dataset:\n",
      "Classification Report on Test Set:\n",
      "              precision    recall  f1-score   support\n",
      "\n",
      "       <=50K       0.89      0.87      0.88      4942\n",
      "        >50K       0.61      0.66      0.63      1571\n",
      "\n",
      "    accuracy                           0.82      6513\n",
      "   macro avg       0.75      0.76      0.76      6513\n",
      "weighted avg       0.82      0.82      0.82      6513\n",
      "\n",
      "\n",
      "==================================================\n",
      "\n"
     ]
    }
   ],
   "source": [
    "# Function to print F1 scores for train and test sets for any model\n",
    "def print_f1_scores(model, X_train, y_train, X_test, y_test, label_encoder, is_neural_network=False):\n",
    "    # Predict for train and test sets\n",
    "    if is_neural_network:\n",
    "        y_train_pred = (model.predict(X_train) > 0.5).astype(\"int32\")\n",
    "        y_test_pred = (model.predict(X_test) > 0.5).astype(\"int32\")\n",
    "    else:\n",
    "        y_train_pred = model.predict(X_train)\n",
    "        y_test_pred = model.predict(X_test)\n",
    "\n",
    "    # Reverse label encoding for interpretation\n",
    "    y_train = label_encoder.inverse_transform(y_train)\n",
    "    y_test = label_encoder.inverse_transform(y_test)\n",
    "    y_train_pred = label_encoder.inverse_transform(y_train_pred)\n",
    "    y_test_pred = label_encoder.inverse_transform(y_test_pred)\n",
    "\n",
    "    # Calculate F1 scores\n",
    "    f1_train = f1_score(y_train, y_train_pred, average='weighted')\n",
    "    f1_test = f1_score(y_test, y_test_pred, average='weighted')\n",
    "\n",
    "    print(f\"F1 Score on Train Set: {f1_train}\")\n",
    "    print(f\"F1 Score on Test Set: {f1_test}\")\n",
    "\n",
    "# Function to print classification report for the best models only\n",
    "def print_classification_report(model, X_test, y_test, label_encoder, is_neural_network=False):\n",
    "    # Predict for train and test sets\n",
    "    if is_neural_network:\n",
    "        y_test_pred = (model.predict(X_test) > 0.5).astype(\"int32\")\n",
    "    else:\n",
    "        y_test_pred = model.predict(X_test)\n",
    "\n",
    "    # Reverse label encoding for interpretation\n",
    "    y_test = label_encoder.inverse_transform(y_test)\n",
    "    y_test_pred = label_encoder.inverse_transform(y_test_pred)\n",
    "\n",
    "    # Print classification report\n",
    "    print(\"Classification Report on Test Set:\")\n",
    "    print(classification_report(y_test, y_test_pred))\n",
    "\n",
    "\n",
    "# Models and label encoders\n",
    "models = {\n",
    "    \"Random Forest\": [rf_grid_first, rf_grid_second],\n",
    "    \"XGBoost\": [xgb_grid_first, xgb_grid_second],\n",
    "    \"HistGradientBoosting\": [hgb_grid_first, hgb_grid_second],\n",
    "    \"Neural Network\": [model_first, model_second]  # Assuming Keras models for both datasets\n",
    "}\n",
    "\n",
    "# Print F1 scores for each model\n",
    "print(\"F1 Scores for All Models:\\n\")\n",
    "for model_name, model_variants in models.items():\n",
    "    for dataset_idx, model in enumerate(model_variants):\n",
    "        print(f\"{model_name} - {'First' if dataset_idx == 0 else 'Second'} Imputed Dataset\")\n",
    "        label_encoder = label_encoders[dataset_idx]\n",
    "        X_train = X_train_sets_classification[dataset_idx]\n",
    "        X_test = X_test_sets_classification[dataset_idx]\n",
    "        y_train = y_train_sets_classification[dataset_idx]\n",
    "        y_test = y_test_sets_classification[dataset_idx]\n",
    "\n",
    "        is_neural_network = model_name == \"Neural Network\"\n",
    "        print_f1_scores(model, X_train, y_train, X_test, y_test, label_encoder, is_neural_network)\n",
    "        print(\"\\n\" + \"-\"*50 + \"\\n\")\n",
    "\n",
    "# Print classification report for the best models only\n",
    "best_models = [xgb_grid_first, xgb_grid_second]\n",
    "print(\"Classification Report for Best Models (XGBoost):\\n\")\n",
    "for i, model in enumerate(best_models):\n",
    "    label_encoder = label_encoders[i]\n",
    "    X_test = X_test_sets_classification[i]\n",
    "    y_test = y_test_sets_classification[i]\n",
    "    \n",
    "    print(f\"Classification Report for {'First' if i == 0 else 'Second'} Imputed Dataset:\")\n",
    "    print_classification_report(model, X_test, y_test, label_encoder)\n",
    "    print(\"\\n\" + \"=\"*50 + \"\\n\")"
   ]
  },
  {
   "cell_type": "markdown",
   "metadata": {
    "id": "oyUVqCG6a5mq"
   },
   "source": [
    "#Your answer here: <br>\n",
    "Based on the F1 score, the XGBoost model still demonstrated the best performance on both the training and test sets. The F1 score is a good metric and relevant to the world of the content of our prediction question because it balances precision and recall and effectively evaluates model performance in cases of class imbalance. Since we used SMOTE to create synthetic examples for the minority class, the F1 score provides a better indication of how well our model learned to handle the minority class after balancing and therefore this metric is more reliable than accuracy for our prediction task, where identifying both classes accurately is essential."
   ]
  },
  {
   "cell_type": "markdown",
   "metadata": {
    "id": "sjlVS3N9mITn"
   },
   "source": [
    "#Part B:"
   ]
  },
  {
   "cell_type": "markdown",
   "metadata": {
    "id": "XkXSaeKKmK-D"
   },
   "source": [
    "#10. Data preprocessing:"
   ]
  },
  {
   "cell_type": "markdown",
   "metadata": {
    "id": "eTJaRDNTmXu6"
   },
   "source": [
    "#Upload the second table (for regression analysis):"
   ]
  },
  {
   "cell_type": "code",
   "execution_count": 22,
   "metadata": {
    "id": "wxnogzcqmVBY"
   },
   "outputs": [
    {
     "data": {
      "text/html": [
       "<div>\n",
       "<style scoped>\n",
       "    .dataframe tbody tr th:only-of-type {\n",
       "        vertical-align: middle;\n",
       "    }\n",
       "\n",
       "    .dataframe tbody tr th {\n",
       "        vertical-align: top;\n",
       "    }\n",
       "\n",
       "    .dataframe thead th {\n",
       "        text-align: right;\n",
       "    }\n",
       "</style>\n",
       "<table border=\"1\" class=\"dataframe\">\n",
       "  <thead>\n",
       "    <tr style=\"text-align: right;\">\n",
       "      <th></th>\n",
       "      <th>POSTED_BY</th>\n",
       "      <th>UNDER_CONSTRUCTION</th>\n",
       "      <th>RERA</th>\n",
       "      <th>BHK_NO.</th>\n",
       "      <th>BHK_OR_RK</th>\n",
       "      <th>SQUARE_FT</th>\n",
       "      <th>READY_TO_MOVE</th>\n",
       "      <th>RESALE</th>\n",
       "      <th>ADDRESS</th>\n",
       "      <th>LONGITUDE</th>\n",
       "      <th>LATITUDE</th>\n",
       "      <th>TARGET(PRICE_IN_LACS)</th>\n",
       "    </tr>\n",
       "  </thead>\n",
       "  <tbody>\n",
       "    <tr>\n",
       "      <th>21992</th>\n",
       "      <td>Dealer</td>\n",
       "      <td>0</td>\n",
       "      <td>0</td>\n",
       "      <td>3</td>\n",
       "      <td>BHK</td>\n",
       "      <td>1057.896332</td>\n",
       "      <td>1</td>\n",
       "      <td>1</td>\n",
       "      <td>Nayabad,Kolkata</td>\n",
       "      <td>22.483471</td>\n",
       "      <td>88.417711</td>\n",
       "      <td>34.9</td>\n",
       "    </tr>\n",
       "    <tr>\n",
       "      <th>29060</th>\n",
       "      <td>Dealer</td>\n",
       "      <td>0</td>\n",
       "      <td>0</td>\n",
       "      <td>3</td>\n",
       "      <td>BHK</td>\n",
       "      <td>1340.588282</td>\n",
       "      <td>1</td>\n",
       "      <td>1</td>\n",
       "      <td>Sector 42 Seawoods,Lalitpur</td>\n",
       "      <td>28.456809</td>\n",
       "      <td>77.099182</td>\n",
       "      <td>170.0</td>\n",
       "    </tr>\n",
       "    <tr>\n",
       "      <th>6778</th>\n",
       "      <td>Dealer</td>\n",
       "      <td>0</td>\n",
       "      <td>0</td>\n",
       "      <td>2</td>\n",
       "      <td>BHK</td>\n",
       "      <td>800.000000</td>\n",
       "      <td>1</td>\n",
       "      <td>1</td>\n",
       "      <td>Indirapuram,Ghaziabad</td>\n",
       "      <td>28.636760</td>\n",
       "      <td>77.363150</td>\n",
       "      <td>35.0</td>\n",
       "    </tr>\n",
       "    <tr>\n",
       "      <th>4730</th>\n",
       "      <td>Owner</td>\n",
       "      <td>0</td>\n",
       "      <td>0</td>\n",
       "      <td>3</td>\n",
       "      <td>BHK</td>\n",
       "      <td>1800.327332</td>\n",
       "      <td>1</td>\n",
       "      <td>1</td>\n",
       "      <td>Navratna Complex,Udaipur</td>\n",
       "      <td>24.583330</td>\n",
       "      <td>73.683330</td>\n",
       "      <td>55.0</td>\n",
       "    </tr>\n",
       "    <tr>\n",
       "      <th>28825</th>\n",
       "      <td>Dealer</td>\n",
       "      <td>1</td>\n",
       "      <td>0</td>\n",
       "      <td>2</td>\n",
       "      <td>BHK</td>\n",
       "      <td>903.024911</td>\n",
       "      <td>0</td>\n",
       "      <td>1</td>\n",
       "      <td>Madhyamgram,Kolkata</td>\n",
       "      <td>22.700000</td>\n",
       "      <td>88.450000</td>\n",
       "      <td>20.3</td>\n",
       "    </tr>\n",
       "  </tbody>\n",
       "</table>\n",
       "</div>"
      ],
      "text/plain": [
       "      POSTED_BY  UNDER_CONSTRUCTION  RERA  BHK_NO. BHK_OR_RK    SQUARE_FT  \\\n",
       "21992    Dealer                   0     0        3       BHK  1057.896332   \n",
       "29060    Dealer                   0     0        3       BHK  1340.588282   \n",
       "6778     Dealer                   0     0        2       BHK   800.000000   \n",
       "4730      Owner                   0     0        3       BHK  1800.327332   \n",
       "28825    Dealer                   1     0        2       BHK   903.024911   \n",
       "\n",
       "       READY_TO_MOVE  RESALE                      ADDRESS  LONGITUDE  \\\n",
       "21992              1       1              Nayabad,Kolkata  22.483471   \n",
       "29060              1       1  Sector 42 Seawoods,Lalitpur  28.456809   \n",
       "6778               1       1        Indirapuram,Ghaziabad  28.636760   \n",
       "4730               1       1     Navratna Complex,Udaipur  24.583330   \n",
       "28825              0       1          Madhyamgram,Kolkata  22.700000   \n",
       "\n",
       "        LATITUDE  TARGET(PRICE_IN_LACS)  \n",
       "21992  88.417711                   34.9  \n",
       "29060  77.099182                  170.0  \n",
       "6778   77.363150                   35.0  \n",
       "4730   73.683330                   55.0  \n",
       "28825  88.450000                   20.3  "
      ]
     },
     "execution_count": 22,
     "metadata": {},
     "output_type": "execute_result"
    }
   ],
   "source": [
    "#your code here:\n",
    "# Link to the dataset: https://www.kaggle.com/datasets/anmolkumar/house-price-prediction-challenge?select=train.csv\n",
    "# Load the full dataset\n",
    "regression_df = pd.read_csv(\"data_for_regression/train.csv\")\n",
    "\n",
    "# We will Randomly sample 5000 rows with a fixed random_state because the dataset is too large\n",
    "regression_df = regression_df.sample(n=1500, random_state=42)\n",
    "regression_df.head()"
   ]
  },
  {
   "cell_type": "markdown",
   "metadata": {
    "id": "Z6cVe6RjmVBZ"
   },
   "source": [
    "#Read the file into a pandas data frame:\n",
    "Split your data to:\n",
    "\n",
    "a. X: the feature matrix\n",
    "\n",
    "b. y: the label vector"
   ]
  },
  {
   "cell_type": "code",
   "execution_count": 23,
   "metadata": {
    "id": "_Yt0dPZJmVBa"
   },
   "outputs": [],
   "source": [
    "#your code here:\n",
    "X_regression = regression_df.drop(columns=['TARGET(PRICE_IN_LACS)'])\n",
    "y_regression = regression_df['TARGET(PRICE_IN_LACS)']"
   ]
  },
  {
   "cell_type": "markdown",
   "metadata": {
    "id": "e5atIA5pm6Z_"
   },
   "source": [
    "#10.A. Check for missing values:"
   ]
  },
  {
   "cell_type": "code",
   "execution_count": 24,
   "metadata": {
    "id": "hd-y5pz7m6aB"
   },
   "outputs": [
    {
     "name": "stdout",
     "output_type": "stream",
     "text": [
      "Number of Null values: POSTED_BY                0\n",
      "UNDER_CONSTRUCTION       0\n",
      "RERA                     0\n",
      "BHK_NO.                  0\n",
      "BHK_OR_RK                0\n",
      "SQUARE_FT                0\n",
      "READY_TO_MOVE            0\n",
      "RESALE                   0\n",
      "ADDRESS                  0\n",
      "LONGITUDE                0\n",
      "LATITUDE                 0\n",
      "TARGET(PRICE_IN_LACS)    0\n",
      "dtype: int64\n",
      "Number of Duplicated values: 0\n"
     ]
    }
   ],
   "source": [
    "#your code here:\n",
    "print(f'Number of Null values: {regression_df.isnull().sum()}')\n",
    "\n",
    "# I also checked for duplicates values and found 14 duplicates\n",
    "print(f'Number of Duplicated values: {regression_df.duplicated().sum()}')\n",
    "\n",
    "# Drop duplicates and keep only the first occurrence\n",
    "regression_df = regression_df.drop_duplicates(keep='first')"
   ]
  },
  {
   "cell_type": "markdown",
   "metadata": {
    "id": "RXy2Hq7dm6aB"
   },
   "source": [
    "#10.B. Impute the missing values using two different methods and assign the imputed output datasets into variables:"
   ]
  },
  {
   "cell_type": "code",
   "execution_count": 25,
   "metadata": {
    "id": "c-brL9oXm6aC"
   },
   "outputs": [],
   "source": [
    "#your code here:\n",
    "#None of the columns have missing values, so we can proceed with the next steps."
   ]
  },
  {
   "cell_type": "markdown",
   "metadata": {
    "id": "pl6vefQem6aC"
   },
   "source": [
    "#10.C. Convert categorical features to dummy variables if number of categories is lower than 5, otherwise remove from data.\n"
   ]
  },
  {
   "cell_type": "code",
   "execution_count": 26,
   "metadata": {
    "id": "BTrcdLfQm6aD"
   },
   "outputs": [
    {
     "name": "stdout",
     "output_type": "stream",
     "text": [
      "Distinct values in 'POSTED_BY': 3\n",
      "Column 'POSTED_BY' has 4 or fewer categories and can be converted to dummy variables.\n",
      "Distinct values in 'BHK_OR_RK': 2\n",
      "Column 'BHK_OR_RK' has 4 or fewer categories and can be converted to dummy variables.\n",
      "Distinct values in 'ADDRESS': 1021\n",
      "Column 'ADDRESS' has more than 4 categories and should be removed.\n"
     ]
    },
    {
     "data": {
      "text/html": [
       "<div>\n",
       "<style scoped>\n",
       "    .dataframe tbody tr th:only-of-type {\n",
       "        vertical-align: middle;\n",
       "    }\n",
       "\n",
       "    .dataframe tbody tr th {\n",
       "        vertical-align: top;\n",
       "    }\n",
       "\n",
       "    .dataframe thead th {\n",
       "        text-align: right;\n",
       "    }\n",
       "</style>\n",
       "<table border=\"1\" class=\"dataframe\">\n",
       "  <thead>\n",
       "    <tr style=\"text-align: right;\">\n",
       "      <th></th>\n",
       "      <th>UNDER_CONSTRUCTION</th>\n",
       "      <th>RERA</th>\n",
       "      <th>BHK_NO.</th>\n",
       "      <th>SQUARE_FT</th>\n",
       "      <th>READY_TO_MOVE</th>\n",
       "      <th>RESALE</th>\n",
       "      <th>LONGITUDE</th>\n",
       "      <th>LATITUDE</th>\n",
       "      <th>POSTED_BY_Dealer</th>\n",
       "      <th>POSTED_BY_Owner</th>\n",
       "      <th>BHK_OR_RK_RK</th>\n",
       "    </tr>\n",
       "  </thead>\n",
       "  <tbody>\n",
       "    <tr>\n",
       "      <th>21992</th>\n",
       "      <td>0</td>\n",
       "      <td>0</td>\n",
       "      <td>3</td>\n",
       "      <td>1057.896332</td>\n",
       "      <td>1</td>\n",
       "      <td>1</td>\n",
       "      <td>22.483471</td>\n",
       "      <td>88.417711</td>\n",
       "      <td>True</td>\n",
       "      <td>False</td>\n",
       "      <td>False</td>\n",
       "    </tr>\n",
       "    <tr>\n",
       "      <th>29060</th>\n",
       "      <td>0</td>\n",
       "      <td>0</td>\n",
       "      <td>3</td>\n",
       "      <td>1340.588282</td>\n",
       "      <td>1</td>\n",
       "      <td>1</td>\n",
       "      <td>28.456809</td>\n",
       "      <td>77.099182</td>\n",
       "      <td>True</td>\n",
       "      <td>False</td>\n",
       "      <td>False</td>\n",
       "    </tr>\n",
       "    <tr>\n",
       "      <th>6778</th>\n",
       "      <td>0</td>\n",
       "      <td>0</td>\n",
       "      <td>2</td>\n",
       "      <td>800.000000</td>\n",
       "      <td>1</td>\n",
       "      <td>1</td>\n",
       "      <td>28.636760</td>\n",
       "      <td>77.363150</td>\n",
       "      <td>True</td>\n",
       "      <td>False</td>\n",
       "      <td>False</td>\n",
       "    </tr>\n",
       "    <tr>\n",
       "      <th>4730</th>\n",
       "      <td>0</td>\n",
       "      <td>0</td>\n",
       "      <td>3</td>\n",
       "      <td>1800.327332</td>\n",
       "      <td>1</td>\n",
       "      <td>1</td>\n",
       "      <td>24.583330</td>\n",
       "      <td>73.683330</td>\n",
       "      <td>False</td>\n",
       "      <td>True</td>\n",
       "      <td>False</td>\n",
       "    </tr>\n",
       "    <tr>\n",
       "      <th>28825</th>\n",
       "      <td>1</td>\n",
       "      <td>0</td>\n",
       "      <td>2</td>\n",
       "      <td>903.024911</td>\n",
       "      <td>0</td>\n",
       "      <td>1</td>\n",
       "      <td>22.700000</td>\n",
       "      <td>88.450000</td>\n",
       "      <td>True</td>\n",
       "      <td>False</td>\n",
       "      <td>False</td>\n",
       "    </tr>\n",
       "  </tbody>\n",
       "</table>\n",
       "</div>"
      ],
      "text/plain": [
       "       UNDER_CONSTRUCTION  RERA  BHK_NO.    SQUARE_FT  READY_TO_MOVE  RESALE  \\\n",
       "21992                   0     0        3  1057.896332              1       1   \n",
       "29060                   0     0        3  1340.588282              1       1   \n",
       "6778                    0     0        2   800.000000              1       1   \n",
       "4730                    0     0        3  1800.327332              1       1   \n",
       "28825                   1     0        2   903.024911              0       1   \n",
       "\n",
       "       LONGITUDE   LATITUDE  POSTED_BY_Dealer  POSTED_BY_Owner  BHK_OR_RK_RK  \n",
       "21992  22.483471  88.417711              True            False         False  \n",
       "29060  28.456809  77.099182              True            False         False  \n",
       "6778   28.636760  77.363150              True            False         False  \n",
       "4730   24.583330  73.683330             False             True         False  \n",
       "28825  22.700000  88.450000              True            False         False  "
      ]
     },
     "execution_count": 26,
     "metadata": {},
     "output_type": "execute_result"
    }
   ],
   "source": [
    "#your code here:\n",
    "# Iterate through categorical columns and count distinct values\n",
    "numerical_cols_1 = X_regression.select_dtypes(include=['int64']).columns\n",
    "categorical_cols_1 = X_regression.select_dtypes(include=['object']).columns\n",
    "\n",
    "columns_to_remove_1 = []\n",
    "for col in categorical_cols_1:\n",
    "    unique_values = X_regression[col].nunique()\n",
    "    print(f\"Distinct values in '{col}': {unique_values}\")\n",
    "    \n",
    "    # Check if the column has more than 4 categories\n",
    "    if unique_values > 4:\n",
    "        print(f\"Column '{col}' has more than 4 categories and should be removed.\")\n",
    "        columns_to_remove_1.append(col)\n",
    "    else:\n",
    "        print(f\"Column '{col}' has 4 or fewer categories and can be converted to dummy variables.\")\n",
    "\n",
    "# Drop the columns with more than 4 categories\n",
    "X_cleaned_regression = X_regression.drop(columns=columns_to_remove_1)\n",
    "\n",
    "# Convert remaining categorical columns (with 4 or fewer categories) to dummy variables\n",
    "X_cleaned_regression = pd.get_dummies(X_cleaned_regression, drop_first=True)\n",
    "\n",
    "X_cleaned_regression.head()\n"
   ]
  },
  {
   "cell_type": "code",
   "execution_count": 27,
   "metadata": {},
   "outputs": [
    {
     "data": {
      "text/html": [
       "<div>\n",
       "<style scoped>\n",
       "    .dataframe tbody tr th:only-of-type {\n",
       "        vertical-align: middle;\n",
       "    }\n",
       "\n",
       "    .dataframe tbody tr th {\n",
       "        vertical-align: top;\n",
       "    }\n",
       "\n",
       "    .dataframe thead th {\n",
       "        text-align: right;\n",
       "    }\n",
       "</style>\n",
       "<table border=\"1\" class=\"dataframe\">\n",
       "  <thead>\n",
       "    <tr style=\"text-align: right;\">\n",
       "      <th></th>\n",
       "      <th>UNDER_CONSTRUCTION</th>\n",
       "      <th>RERA</th>\n",
       "      <th>BHK_NO.</th>\n",
       "      <th>SQUARE_FT</th>\n",
       "      <th>READY_TO_MOVE</th>\n",
       "      <th>RESALE</th>\n",
       "      <th>LONGITUDE</th>\n",
       "      <th>LATITUDE</th>\n",
       "    </tr>\n",
       "  </thead>\n",
       "  <tbody>\n",
       "    <tr>\n",
       "      <th>count</th>\n",
       "      <td>1500.000000</td>\n",
       "      <td>1500.000000</td>\n",
       "      <td>1500.00000</td>\n",
       "      <td>1500.000000</td>\n",
       "      <td>1500.000000</td>\n",
       "      <td>1500.000000</td>\n",
       "      <td>1500.000000</td>\n",
       "      <td>1500.000000</td>\n",
       "    </tr>\n",
       "    <tr>\n",
       "      <th>mean</th>\n",
       "      <td>0.186000</td>\n",
       "      <td>0.299333</td>\n",
       "      <td>2.38000</td>\n",
       "      <td>2039.983887</td>\n",
       "      <td>0.814000</td>\n",
       "      <td>0.930667</td>\n",
       "      <td>21.285463</td>\n",
       "      <td>77.132794</td>\n",
       "    </tr>\n",
       "    <tr>\n",
       "      <th>std</th>\n",
       "      <td>0.389236</td>\n",
       "      <td>0.458119</td>\n",
       "      <td>0.80666</td>\n",
       "      <td>11162.639675</td>\n",
       "      <td>0.389236</td>\n",
       "      <td>0.254105</td>\n",
       "      <td>6.092555</td>\n",
       "      <td>8.893045</td>\n",
       "    </tr>\n",
       "    <tr>\n",
       "      <th>min</th>\n",
       "      <td>0.000000</td>\n",
       "      <td>0.000000</td>\n",
       "      <td>1.00000</td>\n",
       "      <td>32.000000</td>\n",
       "      <td>0.000000</td>\n",
       "      <td>0.000000</td>\n",
       "      <td>9.182037</td>\n",
       "      <td>-86.152929</td>\n",
       "    </tr>\n",
       "    <tr>\n",
       "      <th>25%</th>\n",
       "      <td>0.000000</td>\n",
       "      <td>0.000000</td>\n",
       "      <td>2.00000</td>\n",
       "      <td>900.186468</td>\n",
       "      <td>1.000000</td>\n",
       "      <td>1.000000</td>\n",
       "      <td>18.461698</td>\n",
       "      <td>73.804299</td>\n",
       "    </tr>\n",
       "    <tr>\n",
       "      <th>50%</th>\n",
       "      <td>0.000000</td>\n",
       "      <td>0.000000</td>\n",
       "      <td>2.00000</td>\n",
       "      <td>1182.401299</td>\n",
       "      <td>1.000000</td>\n",
       "      <td>1.000000</td>\n",
       "      <td>20.534403</td>\n",
       "      <td>77.304492</td>\n",
       "    </tr>\n",
       "    <tr>\n",
       "      <th>75%</th>\n",
       "      <td>0.000000</td>\n",
       "      <td>1.000000</td>\n",
       "      <td>3.00000</td>\n",
       "      <td>1531.656049</td>\n",
       "      <td>1.000000</td>\n",
       "      <td>1.000000</td>\n",
       "      <td>26.867658</td>\n",
       "      <td>77.774248</td>\n",
       "    </tr>\n",
       "    <tr>\n",
       "      <th>max</th>\n",
       "      <td>1.000000</td>\n",
       "      <td>1.000000</td>\n",
       "      <td>8.00000</td>\n",
       "      <td>230000.000000</td>\n",
       "      <td>1.000000</td>\n",
       "      <td>1.000000</td>\n",
       "      <td>52.556894</td>\n",
       "      <td>136.000000</td>\n",
       "    </tr>\n",
       "  </tbody>\n",
       "</table>\n",
       "</div>"
      ],
      "text/plain": [
       "       UNDER_CONSTRUCTION         RERA     BHK_NO.      SQUARE_FT  \\\n",
       "count         1500.000000  1500.000000  1500.00000    1500.000000   \n",
       "mean             0.186000     0.299333     2.38000    2039.983887   \n",
       "std              0.389236     0.458119     0.80666   11162.639675   \n",
       "min              0.000000     0.000000     1.00000      32.000000   \n",
       "25%              0.000000     0.000000     2.00000     900.186468   \n",
       "50%              0.000000     0.000000     2.00000    1182.401299   \n",
       "75%              0.000000     1.000000     3.00000    1531.656049   \n",
       "max              1.000000     1.000000     8.00000  230000.000000   \n",
       "\n",
       "       READY_TO_MOVE       RESALE    LONGITUDE     LATITUDE  \n",
       "count    1500.000000  1500.000000  1500.000000  1500.000000  \n",
       "mean        0.814000     0.930667    21.285463    77.132794  \n",
       "std         0.389236     0.254105     6.092555     8.893045  \n",
       "min         0.000000     0.000000     9.182037   -86.152929  \n",
       "25%         1.000000     1.000000    18.461698    73.804299  \n",
       "50%         1.000000     1.000000    20.534403    77.304492  \n",
       "75%         1.000000     1.000000    26.867658    77.774248  \n",
       "max         1.000000     1.000000    52.556894   136.000000  "
      ]
     },
     "execution_count": 27,
     "metadata": {},
     "output_type": "execute_result"
    }
   ],
   "source": [
    "X_cleaned_regression.describe()"
   ]
  },
  {
   "cell_type": "markdown",
   "metadata": {
    "id": "ItZzsxOGm6aD"
   },
   "source": [
    "#10.D. Train test split:"
   ]
  },
  {
   "cell_type": "code",
   "execution_count": 28,
   "metadata": {},
   "outputs": [
    {
     "name": "stdout",
     "output_type": "stream",
     "text": [
      "Train set size (first): (1200, 11), (1200,)\n",
      "Test set size (first): (300, 11), (300,)\n"
     ]
    }
   ],
   "source": [
    "#your code here:\n",
    "\n",
    "# 1) First Imputed Dataset:\n",
    "X_train_regression, X_test_regression, y_train_regression, y_test_regression = train_test_split(\n",
    "    X_cleaned_regression, y_regression, test_size=0.2, random_state=42)\n",
    "\n",
    "# Check the sizes to confirm\n",
    "print(f\"Train set size (first): {X_train_regression.shape}, {y_train_regression.shape}\")\n",
    "print(f\"Test set size (first): {X_test_regression.shape}, {y_test_regression.shape}\")"
   ]
  },
  {
   "cell_type": "markdown",
   "metadata": {
    "id": "VWbyIGVvm6aE"
   },
   "source": [
    "#10.E. standardize or normalize the data\n",
    "\n",
    "  "
   ]
  },
  {
   "cell_type": "code",
   "execution_count": 29,
   "metadata": {
    "id": "RWrtiYf9m6aE"
   },
   "outputs": [],
   "source": [
    "#your code here:\n",
    "# Create a MinMaxScaler object\n",
    "scaler_first = MinMaxScaler()\n",
    "\n",
    "# Fit the scaler on the training data and transform both train and test sets\n",
    "X_train_normalized_regression = scaler_first.fit_transform(X_train_regression)\n",
    "X_test_normalized_regression = scaler_first.transform(X_test_regression)"
   ]
  },
  {
   "cell_type": "markdown",
   "metadata": {
    "id": "Vx4FjmJgnP92"
   },
   "source": [
    "#11. Train a linear regression model:"
   ]
  },
  {
   "cell_type": "code",
   "execution_count": 30,
   "metadata": {
    "id": "Jmihk-OGoAJk"
   },
   "outputs": [
    {
     "data": {
      "text/html": [
       "<style>#sk-container-id-1 {\n",
       "  /* Definition of color scheme common for light and dark mode */\n",
       "  --sklearn-color-text: black;\n",
       "  --sklearn-color-line: gray;\n",
       "  /* Definition of color scheme for unfitted estimators */\n",
       "  --sklearn-color-unfitted-level-0: #fff5e6;\n",
       "  --sklearn-color-unfitted-level-1: #f6e4d2;\n",
       "  --sklearn-color-unfitted-level-2: #ffe0b3;\n",
       "  --sklearn-color-unfitted-level-3: chocolate;\n",
       "  /* Definition of color scheme for fitted estimators */\n",
       "  --sklearn-color-fitted-level-0: #f0f8ff;\n",
       "  --sklearn-color-fitted-level-1: #d4ebff;\n",
       "  --sklearn-color-fitted-level-2: #b3dbfd;\n",
       "  --sklearn-color-fitted-level-3: cornflowerblue;\n",
       "\n",
       "  /* Specific color for light theme */\n",
       "  --sklearn-color-text-on-default-background: var(--sg-text-color, var(--theme-code-foreground, var(--jp-content-font-color1, black)));\n",
       "  --sklearn-color-background: var(--sg-background-color, var(--theme-background, var(--jp-layout-color0, white)));\n",
       "  --sklearn-color-border-box: var(--sg-text-color, var(--theme-code-foreground, var(--jp-content-font-color1, black)));\n",
       "  --sklearn-color-icon: #696969;\n",
       "\n",
       "  @media (prefers-color-scheme: dark) {\n",
       "    /* Redefinition of color scheme for dark theme */\n",
       "    --sklearn-color-text-on-default-background: var(--sg-text-color, var(--theme-code-foreground, var(--jp-content-font-color1, white)));\n",
       "    --sklearn-color-background: var(--sg-background-color, var(--theme-background, var(--jp-layout-color0, #111)));\n",
       "    --sklearn-color-border-box: var(--sg-text-color, var(--theme-code-foreground, var(--jp-content-font-color1, white)));\n",
       "    --sklearn-color-icon: #878787;\n",
       "  }\n",
       "}\n",
       "\n",
       "#sk-container-id-1 {\n",
       "  color: var(--sklearn-color-text);\n",
       "}\n",
       "\n",
       "#sk-container-id-1 pre {\n",
       "  padding: 0;\n",
       "}\n",
       "\n",
       "#sk-container-id-1 input.sk-hidden--visually {\n",
       "  border: 0;\n",
       "  clip: rect(1px 1px 1px 1px);\n",
       "  clip: rect(1px, 1px, 1px, 1px);\n",
       "  height: 1px;\n",
       "  margin: -1px;\n",
       "  overflow: hidden;\n",
       "  padding: 0;\n",
       "  position: absolute;\n",
       "  width: 1px;\n",
       "}\n",
       "\n",
       "#sk-container-id-1 div.sk-dashed-wrapped {\n",
       "  border: 1px dashed var(--sklearn-color-line);\n",
       "  margin: 0 0.4em 0.5em 0.4em;\n",
       "  box-sizing: border-box;\n",
       "  padding-bottom: 0.4em;\n",
       "  background-color: var(--sklearn-color-background);\n",
       "}\n",
       "\n",
       "#sk-container-id-1 div.sk-container {\n",
       "  /* jupyter's `normalize.less` sets `[hidden] { display: none; }`\n",
       "     but bootstrap.min.css set `[hidden] { display: none !important; }`\n",
       "     so we also need the `!important` here to be able to override the\n",
       "     default hidden behavior on the sphinx rendered scikit-learn.org.\n",
       "     See: https://github.com/scikit-learn/scikit-learn/issues/21755 */\n",
       "  display: inline-block !important;\n",
       "  position: relative;\n",
       "}\n",
       "\n",
       "#sk-container-id-1 div.sk-text-repr-fallback {\n",
       "  display: none;\n",
       "}\n",
       "\n",
       "div.sk-parallel-item,\n",
       "div.sk-serial,\n",
       "div.sk-item {\n",
       "  /* draw centered vertical line to link estimators */\n",
       "  background-image: linear-gradient(var(--sklearn-color-text-on-default-background), var(--sklearn-color-text-on-default-background));\n",
       "  background-size: 2px 100%;\n",
       "  background-repeat: no-repeat;\n",
       "  background-position: center center;\n",
       "}\n",
       "\n",
       "/* Parallel-specific style estimator block */\n",
       "\n",
       "#sk-container-id-1 div.sk-parallel-item::after {\n",
       "  content: \"\";\n",
       "  width: 100%;\n",
       "  border-bottom: 2px solid var(--sklearn-color-text-on-default-background);\n",
       "  flex-grow: 1;\n",
       "}\n",
       "\n",
       "#sk-container-id-1 div.sk-parallel {\n",
       "  display: flex;\n",
       "  align-items: stretch;\n",
       "  justify-content: center;\n",
       "  background-color: var(--sklearn-color-background);\n",
       "  position: relative;\n",
       "}\n",
       "\n",
       "#sk-container-id-1 div.sk-parallel-item {\n",
       "  display: flex;\n",
       "  flex-direction: column;\n",
       "}\n",
       "\n",
       "#sk-container-id-1 div.sk-parallel-item:first-child::after {\n",
       "  align-self: flex-end;\n",
       "  width: 50%;\n",
       "}\n",
       "\n",
       "#sk-container-id-1 div.sk-parallel-item:last-child::after {\n",
       "  align-self: flex-start;\n",
       "  width: 50%;\n",
       "}\n",
       "\n",
       "#sk-container-id-1 div.sk-parallel-item:only-child::after {\n",
       "  width: 0;\n",
       "}\n",
       "\n",
       "/* Serial-specific style estimator block */\n",
       "\n",
       "#sk-container-id-1 div.sk-serial {\n",
       "  display: flex;\n",
       "  flex-direction: column;\n",
       "  align-items: center;\n",
       "  background-color: var(--sklearn-color-background);\n",
       "  padding-right: 1em;\n",
       "  padding-left: 1em;\n",
       "}\n",
       "\n",
       "\n",
       "/* Toggleable style: style used for estimator/Pipeline/ColumnTransformer box that is\n",
       "clickable and can be expanded/collapsed.\n",
       "- Pipeline and ColumnTransformer use this feature and define the default style\n",
       "- Estimators will overwrite some part of the style using the `sk-estimator` class\n",
       "*/\n",
       "\n",
       "/* Pipeline and ColumnTransformer style (default) */\n",
       "\n",
       "#sk-container-id-1 div.sk-toggleable {\n",
       "  /* Default theme specific background. It is overwritten whether we have a\n",
       "  specific estimator or a Pipeline/ColumnTransformer */\n",
       "  background-color: var(--sklearn-color-background);\n",
       "}\n",
       "\n",
       "/* Toggleable label */\n",
       "#sk-container-id-1 label.sk-toggleable__label {\n",
       "  cursor: pointer;\n",
       "  display: block;\n",
       "  width: 100%;\n",
       "  margin-bottom: 0;\n",
       "  padding: 0.5em;\n",
       "  box-sizing: border-box;\n",
       "  text-align: center;\n",
       "}\n",
       "\n",
       "#sk-container-id-1 label.sk-toggleable__label-arrow:before {\n",
       "  /* Arrow on the left of the label */\n",
       "  content: \"▸\";\n",
       "  float: left;\n",
       "  margin-right: 0.25em;\n",
       "  color: var(--sklearn-color-icon);\n",
       "}\n",
       "\n",
       "#sk-container-id-1 label.sk-toggleable__label-arrow:hover:before {\n",
       "  color: var(--sklearn-color-text);\n",
       "}\n",
       "\n",
       "/* Toggleable content - dropdown */\n",
       "\n",
       "#sk-container-id-1 div.sk-toggleable__content {\n",
       "  max-height: 0;\n",
       "  max-width: 0;\n",
       "  overflow: hidden;\n",
       "  text-align: left;\n",
       "  /* unfitted */\n",
       "  background-color: var(--sklearn-color-unfitted-level-0);\n",
       "}\n",
       "\n",
       "#sk-container-id-1 div.sk-toggleable__content.fitted {\n",
       "  /* fitted */\n",
       "  background-color: var(--sklearn-color-fitted-level-0);\n",
       "}\n",
       "\n",
       "#sk-container-id-1 div.sk-toggleable__content pre {\n",
       "  margin: 0.2em;\n",
       "  border-radius: 0.25em;\n",
       "  color: var(--sklearn-color-text);\n",
       "  /* unfitted */\n",
       "  background-color: var(--sklearn-color-unfitted-level-0);\n",
       "}\n",
       "\n",
       "#sk-container-id-1 div.sk-toggleable__content.fitted pre {\n",
       "  /* unfitted */\n",
       "  background-color: var(--sklearn-color-fitted-level-0);\n",
       "}\n",
       "\n",
       "#sk-container-id-1 input.sk-toggleable__control:checked~div.sk-toggleable__content {\n",
       "  /* Expand drop-down */\n",
       "  max-height: 200px;\n",
       "  max-width: 100%;\n",
       "  overflow: auto;\n",
       "}\n",
       "\n",
       "#sk-container-id-1 input.sk-toggleable__control:checked~label.sk-toggleable__label-arrow:before {\n",
       "  content: \"▾\";\n",
       "}\n",
       "\n",
       "/* Pipeline/ColumnTransformer-specific style */\n",
       "\n",
       "#sk-container-id-1 div.sk-label input.sk-toggleable__control:checked~label.sk-toggleable__label {\n",
       "  color: var(--sklearn-color-text);\n",
       "  background-color: var(--sklearn-color-unfitted-level-2);\n",
       "}\n",
       "\n",
       "#sk-container-id-1 div.sk-label.fitted input.sk-toggleable__control:checked~label.sk-toggleable__label {\n",
       "  background-color: var(--sklearn-color-fitted-level-2);\n",
       "}\n",
       "\n",
       "/* Estimator-specific style */\n",
       "\n",
       "/* Colorize estimator box */\n",
       "#sk-container-id-1 div.sk-estimator input.sk-toggleable__control:checked~label.sk-toggleable__label {\n",
       "  /* unfitted */\n",
       "  background-color: var(--sklearn-color-unfitted-level-2);\n",
       "}\n",
       "\n",
       "#sk-container-id-1 div.sk-estimator.fitted input.sk-toggleable__control:checked~label.sk-toggleable__label {\n",
       "  /* fitted */\n",
       "  background-color: var(--sklearn-color-fitted-level-2);\n",
       "}\n",
       "\n",
       "#sk-container-id-1 div.sk-label label.sk-toggleable__label,\n",
       "#sk-container-id-1 div.sk-label label {\n",
       "  /* The background is the default theme color */\n",
       "  color: var(--sklearn-color-text-on-default-background);\n",
       "}\n",
       "\n",
       "/* On hover, darken the color of the background */\n",
       "#sk-container-id-1 div.sk-label:hover label.sk-toggleable__label {\n",
       "  color: var(--sklearn-color-text);\n",
       "  background-color: var(--sklearn-color-unfitted-level-2);\n",
       "}\n",
       "\n",
       "/* Label box, darken color on hover, fitted */\n",
       "#sk-container-id-1 div.sk-label.fitted:hover label.sk-toggleable__label.fitted {\n",
       "  color: var(--sklearn-color-text);\n",
       "  background-color: var(--sklearn-color-fitted-level-2);\n",
       "}\n",
       "\n",
       "/* Estimator label */\n",
       "\n",
       "#sk-container-id-1 div.sk-label label {\n",
       "  font-family: monospace;\n",
       "  font-weight: bold;\n",
       "  display: inline-block;\n",
       "  line-height: 1.2em;\n",
       "}\n",
       "\n",
       "#sk-container-id-1 div.sk-label-container {\n",
       "  text-align: center;\n",
       "}\n",
       "\n",
       "/* Estimator-specific */\n",
       "#sk-container-id-1 div.sk-estimator {\n",
       "  font-family: monospace;\n",
       "  border: 1px dotted var(--sklearn-color-border-box);\n",
       "  border-radius: 0.25em;\n",
       "  box-sizing: border-box;\n",
       "  margin-bottom: 0.5em;\n",
       "  /* unfitted */\n",
       "  background-color: var(--sklearn-color-unfitted-level-0);\n",
       "}\n",
       "\n",
       "#sk-container-id-1 div.sk-estimator.fitted {\n",
       "  /* fitted */\n",
       "  background-color: var(--sklearn-color-fitted-level-0);\n",
       "}\n",
       "\n",
       "/* on hover */\n",
       "#sk-container-id-1 div.sk-estimator:hover {\n",
       "  /* unfitted */\n",
       "  background-color: var(--sklearn-color-unfitted-level-2);\n",
       "}\n",
       "\n",
       "#sk-container-id-1 div.sk-estimator.fitted:hover {\n",
       "  /* fitted */\n",
       "  background-color: var(--sklearn-color-fitted-level-2);\n",
       "}\n",
       "\n",
       "/* Specification for estimator info (e.g. \"i\" and \"?\") */\n",
       "\n",
       "/* Common style for \"i\" and \"?\" */\n",
       "\n",
       ".sk-estimator-doc-link,\n",
       "a:link.sk-estimator-doc-link,\n",
       "a:visited.sk-estimator-doc-link {\n",
       "  float: right;\n",
       "  font-size: smaller;\n",
       "  line-height: 1em;\n",
       "  font-family: monospace;\n",
       "  background-color: var(--sklearn-color-background);\n",
       "  border-radius: 1em;\n",
       "  height: 1em;\n",
       "  width: 1em;\n",
       "  text-decoration: none !important;\n",
       "  margin-left: 1ex;\n",
       "  /* unfitted */\n",
       "  border: var(--sklearn-color-unfitted-level-1) 1pt solid;\n",
       "  color: var(--sklearn-color-unfitted-level-1);\n",
       "}\n",
       "\n",
       ".sk-estimator-doc-link.fitted,\n",
       "a:link.sk-estimator-doc-link.fitted,\n",
       "a:visited.sk-estimator-doc-link.fitted {\n",
       "  /* fitted */\n",
       "  border: var(--sklearn-color-fitted-level-1) 1pt solid;\n",
       "  color: var(--sklearn-color-fitted-level-1);\n",
       "}\n",
       "\n",
       "/* On hover */\n",
       "div.sk-estimator:hover .sk-estimator-doc-link:hover,\n",
       ".sk-estimator-doc-link:hover,\n",
       "div.sk-label-container:hover .sk-estimator-doc-link:hover,\n",
       ".sk-estimator-doc-link:hover {\n",
       "  /* unfitted */\n",
       "  background-color: var(--sklearn-color-unfitted-level-3);\n",
       "  color: var(--sklearn-color-background);\n",
       "  text-decoration: none;\n",
       "}\n",
       "\n",
       "div.sk-estimator.fitted:hover .sk-estimator-doc-link.fitted:hover,\n",
       ".sk-estimator-doc-link.fitted:hover,\n",
       "div.sk-label-container:hover .sk-estimator-doc-link.fitted:hover,\n",
       ".sk-estimator-doc-link.fitted:hover {\n",
       "  /* fitted */\n",
       "  background-color: var(--sklearn-color-fitted-level-3);\n",
       "  color: var(--sklearn-color-background);\n",
       "  text-decoration: none;\n",
       "}\n",
       "\n",
       "/* Span, style for the box shown on hovering the info icon */\n",
       ".sk-estimator-doc-link span {\n",
       "  display: none;\n",
       "  z-index: 9999;\n",
       "  position: relative;\n",
       "  font-weight: normal;\n",
       "  right: .2ex;\n",
       "  padding: .5ex;\n",
       "  margin: .5ex;\n",
       "  width: min-content;\n",
       "  min-width: 20ex;\n",
       "  max-width: 50ex;\n",
       "  color: var(--sklearn-color-text);\n",
       "  box-shadow: 2pt 2pt 4pt #999;\n",
       "  /* unfitted */\n",
       "  background: var(--sklearn-color-unfitted-level-0);\n",
       "  border: .5pt solid var(--sklearn-color-unfitted-level-3);\n",
       "}\n",
       "\n",
       ".sk-estimator-doc-link.fitted span {\n",
       "  /* fitted */\n",
       "  background: var(--sklearn-color-fitted-level-0);\n",
       "  border: var(--sklearn-color-fitted-level-3);\n",
       "}\n",
       "\n",
       ".sk-estimator-doc-link:hover span {\n",
       "  display: block;\n",
       "}\n",
       "\n",
       "/* \"?\"-specific style due to the `<a>` HTML tag */\n",
       "\n",
       "#sk-container-id-1 a.estimator_doc_link {\n",
       "  float: right;\n",
       "  font-size: 1rem;\n",
       "  line-height: 1em;\n",
       "  font-family: monospace;\n",
       "  background-color: var(--sklearn-color-background);\n",
       "  border-radius: 1rem;\n",
       "  height: 1rem;\n",
       "  width: 1rem;\n",
       "  text-decoration: none;\n",
       "  /* unfitted */\n",
       "  color: var(--sklearn-color-unfitted-level-1);\n",
       "  border: var(--sklearn-color-unfitted-level-1) 1pt solid;\n",
       "}\n",
       "\n",
       "#sk-container-id-1 a.estimator_doc_link.fitted {\n",
       "  /* fitted */\n",
       "  border: var(--sklearn-color-fitted-level-1) 1pt solid;\n",
       "  color: var(--sklearn-color-fitted-level-1);\n",
       "}\n",
       "\n",
       "/* On hover */\n",
       "#sk-container-id-1 a.estimator_doc_link:hover {\n",
       "  /* unfitted */\n",
       "  background-color: var(--sklearn-color-unfitted-level-3);\n",
       "  color: var(--sklearn-color-background);\n",
       "  text-decoration: none;\n",
       "}\n",
       "\n",
       "#sk-container-id-1 a.estimator_doc_link.fitted:hover {\n",
       "  /* fitted */\n",
       "  background-color: var(--sklearn-color-fitted-level-3);\n",
       "}\n",
       "</style><div id=\"sk-container-id-1\" class=\"sk-top-container\"><div class=\"sk-text-repr-fallback\"><pre>LinearRegression()</pre><b>In a Jupyter environment, please rerun this cell to show the HTML representation or trust the notebook. <br />On GitHub, the HTML representation is unable to render, please try loading this page with nbviewer.org.</b></div><div class=\"sk-container\" hidden><div class=\"sk-item\"><div class=\"sk-estimator fitted sk-toggleable\"><input class=\"sk-toggleable__control sk-hidden--visually\" id=\"sk-estimator-id-1\" type=\"checkbox\" checked><label for=\"sk-estimator-id-1\" class=\"sk-toggleable__label fitted sk-toggleable__label-arrow fitted\">&nbsp;&nbsp;LinearRegression<a class=\"sk-estimator-doc-link fitted\" rel=\"noreferrer\" target=\"_blank\" href=\"https://scikit-learn.org/1.5/modules/generated/sklearn.linear_model.LinearRegression.html\">?<span>Documentation for LinearRegression</span></a><span class=\"sk-estimator-doc-link fitted\">i<span>Fitted</span></span></label><div class=\"sk-toggleable__content fitted\"><pre>LinearRegression()</pre></div> </div></div></div></div>"
      ],
      "text/plain": [
       "LinearRegression()"
      ]
     },
     "execution_count": 30,
     "metadata": {},
     "output_type": "execute_result"
    }
   ],
   "source": [
    "#your code here:\n",
    "# Initialize the Linear Regression model\n",
    "linear_regression_model = LinearRegression()\n",
    "\n",
    "# Train the model on the normalized training set\n",
    "linear_regression_model.fit(X_train_normalized_regression, y_train_regression)"
   ]
  },
  {
   "cell_type": "markdown",
   "metadata": {
    "id": "mfRk86hInXlI"
   },
   "source": [
    "#12. On both the train set and the test set, predict the values based on the linear regression model and print the following measures:\n",
    "\n",
    "\t*  R^2\n",
    "\t*  Root Mean Square Error (RMSE)\n",
    "\t*  Mean Absolut Error (MAE)\n",
    "\t*  Mean Absolut Percent Error (MAPE)\n",
    "\n"
   ]
  },
  {
   "cell_type": "code",
   "execution_count": 31,
   "metadata": {
    "id": "Z_ZELtEloBfl"
   },
   "outputs": [
    {
     "name": "stdout",
     "output_type": "stream",
     "text": [
      "Train Set Metrics:\n",
      "R^2: 0.06557754241865377\n",
      "Root Mean Square Error (RMSE): 392.33133497083816\n",
      "Mean Absolute Error (MAE): 202.45583333333332\n",
      "Mean Absolute Percentage Error (MAPE): 364.68299641192425\n",
      "\n",
      "Test Set Metrics:\n",
      "R^2: 0.3713581211604169\n",
      "Root Mean Square Error (RMSE): 633.8240863467823\n",
      "Mean Absolute Error (MAE): 231.02700000000002\n",
      "Mean Absolute Percentage Error (MAPE): 314.4221436509358\n"
     ]
    }
   ],
   "source": [
    "#your code here:\n",
    "# Function to calculate Mean Absolute Percentage Error (MAPE)\n",
    "def mean_absolute_percentage_error(y_true, y_pred):\n",
    "    return np.mean(np.abs((y_true - y_pred) / y_true)) * 100\n",
    "\n",
    "# Predict on train and test sets\n",
    "y_train_pred_regression = linear_regression_model.predict(X_train_normalized_regression)\n",
    "y_test_pred_regression = linear_regression_model.predict(X_test_normalized_regression)\n",
    "\n",
    "# Calculate metrics for the train set\n",
    "print(\"Train Set Metrics:\")\n",
    "r2_train = r2_score(y_train_regression, y_train_pred_regression)\n",
    "rmse_train = np.sqrt(mean_squared_error(y_train_regression, y_train_pred_regression))\n",
    "mae_train = mean_absolute_error(y_train_regression, y_train_pred_regression)\n",
    "mape_train = mean_absolute_percentage_error(y_train_regression, y_train_pred_regression)\n",
    "\n",
    "print(f\"R^2: {r2_train}\")\n",
    "print(f\"Root Mean Square Error (RMSE): {rmse_train}\")\n",
    "print(f\"Mean Absolute Error (MAE): {mae_train}\")\n",
    "print(f\"Mean Absolute Percentage Error (MAPE): {mape_train}\")\n",
    "\n",
    "# Calculate metrics for the test set\n",
    "print(\"\\nTest Set Metrics:\")\n",
    "r2_test = r2_score(y_test_regression, y_test_pred_regression)\n",
    "rmse_test = np.sqrt(mean_squared_error(y_test_regression, y_test_pred_regression))\n",
    "mae_test = mean_absolute_error(y_test_regression, y_test_pred_regression)\n",
    "mape_test = mean_absolute_percentage_error(y_test_regression, y_test_pred_regression)\n",
    "\n",
    "print(f\"R^2: {r2_test}\")\n",
    "print(f\"Root Mean Square Error (RMSE): {rmse_test}\")\n",
    "print(f\"Mean Absolute Error (MAE): {mae_test}\")\n",
    "print(f\"Mean Absolute Percentage Error (MAPE): {mape_test}\")"
   ]
  },
  {
   "cell_type": "markdown",
   "metadata": {},
   "source": [
    "Overall, these metrics shows that the model is not learning well the relationship between the features and the target. The low R² values and high errors (RMSE, MAE, MAPE) suggest us that the linear regression model can be not be not a good for this dataset."
   ]
  },
  {
   "cell_type": "markdown",
   "metadata": {
    "id": "VmoF2nk9oFT-"
   },
   "source": [
    "#13. Polynomial regression: follow instruction in the attached documnet."
   ]
  },
  {
   "cell_type": "code",
   "execution_count": 32,
   "metadata": {
    "id": "KGQ-10jLoR_l"
   },
   "outputs": [
    {
     "name": "stdout",
     "output_type": "stream",
     "text": [
      "\n",
      "Degree: 2\n",
      "Lasso Regression\n",
      "Ridge Regression\n",
      "\n",
      "Degree: 3\n",
      "Lasso Regression\n",
      "Ridge Regression\n",
      "\n",
      "Degree: 4\n",
      "Lasso Regression\n",
      "Ridge Regression\n",
      "Best Degree: 2\n",
      "Best Model: Lasso\n",
      "Best Alpha: 100\n",
      "\n",
      "Train Set Metrics:\n",
      "R^2: 0.9305547742140763\n",
      "Root Mean Square Error (RMSE): 106.95536136031029\n",
      "Mean Absolute Error (MAE): 52.385538639276845\n",
      "Mean Absolute Percentage Error (MAPE): 68.46889573038459\n",
      "\n",
      "Test Set Metrics:\n",
      "R^2: 0.8083572559718445\n",
      "Root Mean Square Error (RMSE): 349.95586363147584\n",
      "Mean Absolute Error (MAE): 76.74764989496427\n",
      "Mean Absolute Percentage Error (MAPE): 64.93001723099695\n"
     ]
    }
   ],
   "source": [
    "#your code here:\n",
    "# Define polynomial degrees to try\n",
    "degrees = [2, 3, 4]\n",
    "best_model = None\n",
    "best_degree = None\n",
    "best_alpha = None\n",
    "best_score = float('-inf')\n",
    "\n",
    "# Loop through each degree\n",
    "for d in degrees:\n",
    "    print(f\"\\nDegree: {d}\")\n",
    "    # Generate polynomial features\n",
    "    poly = PolynomialFeatures(degree=d)\n",
    "    X_poly = poly.fit_transform(X_cleaned_regression)\n",
    "    \n",
    "    # Split the data with the same random state\n",
    "    X_train_poly, X_test_poly, y_train_poly, y_test_poly = train_test_split(\n",
    "        X_poly, y_regression, test_size=0.2, random_state=42)\n",
    "    \n",
    "    # Define the parameter grid for alpha\n",
    "    param_grid = {'alpha': [0.01, 0.1, 1, 10, 100]}\n",
    "    \n",
    "    # Lasso Regression with GridSearchCV\n",
    "    print(\"Lasso Regression\")\n",
    "    lasso = Lasso(max_iter=10000)\n",
    "    lasso_grid = GridSearchCV(lasso, param_grid, cv=3, scoring='r2')\n",
    "    lasso_grid.fit(X_train_poly, y_train_poly)\n",
    "    \n",
    "    # Ridge Regression with GridSearchCV\n",
    "    print(\"Ridge Regression\")\n",
    "    ridge = Ridge(max_iter=10000)\n",
    "    ridge_grid = GridSearchCV(ridge, param_grid, cv=3, scoring='r2')\n",
    "    ridge_grid.fit(X_train_poly, y_train_poly)\n",
    "    \n",
    "    # Determine best model and parameters for current degree\n",
    "    best_lasso_score = lasso_grid.best_score_\n",
    "    best_ridge_score = ridge_grid.best_score_\n",
    "    \n",
    "    if best_lasso_score > best_score:\n",
    "        best_score = best_lasso_score\n",
    "        best_model = lasso_grid.best_estimator_\n",
    "        best_degree = d\n",
    "        best_alpha = lasso_grid.best_params_['alpha']\n",
    "    \n",
    "    if best_ridge_score > best_score:\n",
    "        best_score = best_ridge_score\n",
    "        best_model = ridge_grid.best_estimator_\n",
    "        best_degree = d\n",
    "        best_alpha = ridge_grid.best_params_['alpha']\n",
    "\n",
    "# Display the best model details\n",
    "print(f\"Best Degree: {best_degree}\")\n",
    "print(f\"Best Model: {'Lasso' if isinstance(best_model, Lasso) else 'Ridge'}\")\n",
    "print(f\"Best Alpha: {best_alpha}\")\n",
    "\n",
    "\n",
    "# Initialize PolynomialFeatures with the best degree found (e.g., degree=d)\n",
    "poly = PolynomialFeatures(degree=best_degree)\n",
    "\n",
    "# Transform the entire dataset, then split\n",
    "X_poly = poly.fit_transform(X_cleaned_regression)\n",
    "X_train_poly, X_test_poly, y_train_poly, y_test_poly = train_test_split(\n",
    "    X_poly, y_regression, test_size=0.2, random_state=42)\n",
    "\n",
    "# Now you can train and test using the transformed sets with consistent feature numbers\n",
    "y_train_pred = best_model.predict(X_train_poly)\n",
    "y_test_pred = best_model.predict(X_test_poly)\n",
    "\n",
    "# Calculate and display metrics for train set\n",
    "print(\"\\nTrain Set Metrics:\")\n",
    "print(f\"R^2: {r2_score(y_train_poly, y_train_pred)}\")\n",
    "print(f\"Root Mean Square Error (RMSE): {np.sqrt(mean_squared_error(y_train_poly, y_train_pred))}\")\n",
    "print(f\"Mean Absolute Error (MAE): {mean_absolute_error(y_train_poly, y_train_pred)}\")\n",
    "print(f\"Mean Absolute Percentage Error (MAPE): {mean_absolute_percentage_error(y_train_poly, y_train_pred)}\")\n",
    "\n",
    "# Calculate and display metrics for test set\n",
    "print(\"\\nTest Set Metrics:\")\n",
    "print(f\"R^2: {r2_score(y_test_poly, y_test_pred)}\")\n",
    "print(f\"Root Mean Square Error (RMSE): {np.sqrt(mean_squared_error(y_test_poly, y_test_pred))}\")\n",
    "print(f\"Mean Absolute Error (MAE): {mean_absolute_error(y_test_poly, y_test_pred)}\")\n",
    "print(f\"Mean Absolute Percentage Error (MAPE): {mean_absolute_percentage_error(y_test_poly, y_test_pred)}\")\n"
   ]
  },
  {
   "cell_type": "markdown",
   "metadata": {
    "id": "ZvIm0OEUoUSW"
   },
   "source": [
    "#14. Verbally explain the problem with polynomial transformation of features. How can it be solved? (2-3 sentences)."
   ]
  },
  {
   "cell_type": "markdown",
   "metadata": {
    "id": "ivECb4FOo9jY"
   },
   "source": [
    "#Your answer here: <br>\n",
    "The problem with polynomial transformation of features is that it can lead to multicollinearity (features are highly correlated with each other) and very large feature values (because we square, cube,.. the orginal values), which can lead to instability in the model and make convergence more difficult. To solve this problem we can use regularization techniques like Lasso and Ridge to reduce model the complexity and improve the stability of the model."
   ]
  },
  {
   "cell_type": "markdown",
   "metadata": {
    "id": "XsvLKBFHoqe1"
   },
   "source": [
    "#Verbally explain what are ridge and lasso? when shoud each be used? what's the diffrence between them? (up to 4 sentences)"
   ]
  },
  {
   "cell_type": "markdown",
   "metadata": {
    "id": "2Aj-zGZNo9_A"
   },
   "source": [
    "#Your answer here: <br>\n",
    "Lasso and Ridge are two differents regularization techniques that we use in order to prevent overfitting. Lasso (L1 regularization) is a good choice when we want to simplify the model by setting some feature coefficients to zero, which automatically selects the most important features. Ridge (L2 regularization) is different from Lasso because it reduce coefficients but without making them zero, which is useful when all features contribute but we have a problem of multicollinearity. The main difference is that Lasso can remove features by setting their coefficients to zero, while Ridge only reduce them.\n"
   ]
  },
  {
   "cell_type": "markdown",
   "metadata": {
    "id": "GEsLJp7Fo-kl"
   },
   "source": [
    "#15. Train additional algorithms as specified in the attached document."
   ]
  },
  {
   "cell_type": "code",
   "execution_count": 34,
   "metadata": {
    "id": "3D1LfRt1pPDJ"
   },
   "outputs": [
    {
     "name": "stdout",
     "output_type": "stream",
     "text": [
      "\n",
      "\u001B[1mBest Parameters for Models:\u001B[0m\n",
      "RandomForest: {'max_depth': None, 'n_estimators': 100}\n",
      "XGBoost: {'max_depth': 6, 'n_estimators': 100}\n",
      "\n",
      "\u001B[1mEvaluation Results:\u001B[0m\n",
      "\u001B[1mRandomForest (Train Set):\u001B[0m\n",
      "R^2: 0.9051156153532356\n",
      "RMSE: 125.01978132812287\n",
      "MAE: 18.859515634920633\n",
      "MAPE: 17.82390215263994%\n",
      "\n",
      "\u001B[1mRandomForest (Test Set):\u001B[0m\n",
      "R^2: 0.5884615765285028\n",
      "RMSE: 512.8286492405508\n",
      "MAE: 76.37954555555557\n",
      "MAPE: 43.61217361186084%\n",
      "\n",
      "\u001B[1mXGBoost (Train Set):\u001B[0m\n",
      "R^2: 0.9994042101130425\n",
      "RMSE: 9.906675230905652\n",
      "MAE: 6.671878221035004\n",
      "MAPE: 10.630242798542309%\n",
      "\n",
      "\u001B[1mXGBoost (Test Set):\u001B[0m\n",
      "R^2: 0.9478147841117888\n",
      "RMSE: 182.61684129806338\n",
      "MAE: 47.322249774932864\n",
      "MAPE: 38.866065096104776%\n",
      "\n",
      "\u001B[1mHistGradientBoosting (Train Set):\u001B[0m\n",
      "R^2: 0.612137501171583\n",
      "RMSE: 252.76693236955828\n",
      "MAE: 44.39265151047591\n",
      "MAPE: 48.46644863307632%\n",
      "\n",
      "\u001B[1mHistGradientBoosting (Test Set):\u001B[0m\n",
      "R^2: 0.6038877816272085\n",
      "RMSE: 503.12535449286395\n",
      "MAE: 89.18179740800117\n",
      "MAPE: 48.026214667536465%\n",
      "\n"
     ]
    }
   ],
   "source": [
    "# Import necessary libraries\n",
    "\n",
    "# Define metric function\n",
    "def evaluate_model(y_true, y_pred):\n",
    "    r2 = r2_score(y_true, y_pred)\n",
    "    rmse = mean_squared_error(y_true, y_pred, squared=False)\n",
    "    mae = mean_absolute_error(y_true, y_pred)\n",
    "    mape = (np.abs((y_true - y_pred) / y_true).mean()) * 100\n",
    "    return r2, rmse, mae, mape\n",
    "\n",
    "# Parameter grids for hyperparameter tuning\n",
    "rf_param_grid = {\n",
    "    'n_estimators': [100, 200],\n",
    "    'max_depth': [10, 20, None],\n",
    "}\n",
    "\n",
    "xgb_param_grid = {\n",
    "    'n_estimators': [100, 200],\n",
    "    'max_depth': [3, 6],\n",
    "}\n",
    "\n",
    "# Initialize dictionaries to store results\n",
    "best_params = {}\n",
    "results = {}\n",
    "\n",
    "# Random Forest with hyperparameter tuning\n",
    "rf = RandomForestRegressor(random_state=42)\n",
    "rf_grid = GridSearchCV(estimator=rf, param_grid=rf_param_grid, cv=3)\n",
    "rf_grid.fit(X_train_normalized_regression, y_train_regression)\n",
    "best_params[\"RandomForest\"] = rf_grid.best_params_\n",
    "\n",
    "# XGBoost with hyperparameter tuning\n",
    "xgb = XGBRegressor(random_state=42, objective='reg:squarederror')\n",
    "xgb_grid = GridSearchCV(estimator=xgb, param_grid=xgb_param_grid, cv=3)\n",
    "xgb_grid.fit(X_train_normalized_regression, y_train_regression)\n",
    "best_params[\"XGBoost\"] = xgb_grid.best_params_\n",
    "\n",
    "# HistGradientBoostingRegressor (without GridSearchCV)\n",
    "hist_gb = HistGradientBoostingRegressor(random_state=42)\n",
    "hist_gb.fit(X_train_normalized_regression, y_train_regression)\n",
    "\n",
    "# Dictionary to store models\n",
    "models = {\n",
    "    \"RandomForest\": rf_grid.best_estimator_,\n",
    "    \"XGBoost\": xgb_grid.best_estimator_,\n",
    "    \"HistGradientBoosting\": hist_gb\n",
    "}\n",
    "\n",
    "# Evaluate models\n",
    "for model_name, model in models.items():\n",
    "    # Train and Test Predictions\n",
    "    y_train_pred_regression = model.predict(X_train_normalized_regression)\n",
    "    y_test_pred_regression = model.predict(X_test_normalized_regression)\n",
    "\n",
    "    # Store metrics\n",
    "    results[f\"{model_name}_train\"] = evaluate_model(y_train_regression, y_train_pred_regression)\n",
    "    results[f\"{model_name}_test\"] = evaluate_model(y_test_regression, y_test_pred_regression)\n",
    "\n",
    "\n",
    "# Evaluate models and print results with custom formatting\n",
    "for model_name, model in models.items():\n",
    "    # Train and Test Predictions\n",
    "    y_train_pred_regression = model.predict(X_train_normalized_regression)\n",
    "    y_test_pred_regression = model.predict(X_test_normalized_regression)\n",
    "\n",
    "    # Store metrics\n",
    "    results[f\"{model_name}_train\"] = evaluate_model(y_train_regression, y_train_pred_regression)\n",
    "    results[f\"{model_name}_test\"] = evaluate_model(y_test_regression, y_test_pred_regression)\n",
    "\n",
    "# Print best parameters\n",
    "print(\"\\n\\033[1mBest Parameters for Models:\\033[0m\")\n",
    "for model, params in best_params.items():\n",
    "    print(f\"{model}: {params}\")\n",
    "\n",
    "# Print evaluation results\n",
    "print(\"\\n\\033[1mEvaluation Results:\\033[0m\")\n",
    "for key, (r2, rmse, mae, mape) in results.items():\n",
    "    model_name = key.split(\"_\")[0]\n",
    "    split = \"Train\" if \"train\" in key else \"Test\"\n",
    "    print(f\"\\033[1m{model_name} ({split} Set):\\033[0m\")\n",
    "    print(f\"R^2: {r2}\")\n",
    "    print(f\"RMSE: {rmse}\")\n",
    "    print(f\"MAE: {mae}\")\n",
    "    print(f\"MAPE: {mape}%\")\n",
    "    print()"
   ]
  },
  {
   "cell_type": "markdown",
   "metadata": {
    "id": "JETnIFoUpXdk"
   },
   "source": [
    "#16. Verbally explain: which model is the best? Briefly explain the model predictions outcome in terms of over and under fitting -explain.\n",
    "#Explain each of the 4 error measuers presented and how they coul be interpreted in the context of your data specifically?"
   ]
  },
  {
   "cell_type": "markdown",
   "metadata": {
    "id": "tjsBNZoxqQVp"
   },
   "source": [
    "#Your answer here: <br>\n",
    "Based on the metrics, XGBoost is the best model, showing high performance on both the training set (R²: 0.9994) and the test set (R²: 0.9478), which indicate a well-fit model with good generalization. Random Forest also performed well but demonstrated more pronounced overfitting, with a high training R² (0.9051) and a much lower R² on the test set (0.5885). HistGradientBoosting showed significant underfitting, with lower R² values for both training (0.6121) and test sets (0.6039), which suggests that it may benefit from more training. <br>\n",
    "\n",
    "1) R² (Coefficient of Determination): This is a metric which indicates how well the model explains the variance in the data. For this data, higher values (close to 1) show better fit like we saw with XGBoost.\n",
    "2) RMSE (Root Mean Squared Error): This is a metric which indicates the standard deviation of prediction errors, with lower values indicating better accuracy. For this data, XGBoost has a RMSE of 182.62 on the test set compared to Random Forest (512.83) and HistGradientBoosting (503.13), which shows a higher accuracy.\n",
    "3) MAE (Mean Absolute Error): This is a metric which gives the average error magnitude. For this data, lower MAE values for XGBoost (47.32) indicate it’s the most accurate on average.\n",
    "4) MAPE (Mean Absolute Percentage Error): This is a metric which shows the average error as a percentage of the actual values, useful for comparing errors across datasets. For this data, XGBoost’s lower MAPE (38.87%) indicates superior predictive accuracy, while HistGradientBoosting’s high MAPE (48.03%) reflects lower accuracy.\n"
   ]
  },
  {
   "cell_type": "markdown",
   "metadata": {},
   "source": [
    "###  * Use of chatgpt:\n",
    "For this project, I used the class notebooks as the primary source for the code and then adapted it to my specific needs with the assistance of ChatGPT. I used ChatGPT to refine and structure the code more effectively, optimize function implementation, and improve the clarity and coherence of my answers."
   ]
  },
  {
   "cell_type": "markdown",
   "metadata": {},
   "source": [
    "### * Data\n",
    "Regarding the data, I included links to both datasets from Kaggle and organized each dataset into two separate folders named data_for_classification and data_for_regression. Additionally, for the second dataset, I selected a random subset of 1,500 rows, as the original dataset was too large to process in full."
   ]
  },
  {
   "cell_type": "code",
   "execution_count": null,
   "metadata": {},
   "outputs": [],
   "source": []
  },
  {
   "cell_type": "markdown",
   "metadata": {
    "id": "M573muOoa6Kp"
   },
   "source": [
    "#Good Luck!"
   ]
  },
  {
   "cell_type": "markdown",
   "metadata": {},
   "source": []
  }
 ],
 "metadata": {
  "colab": {
   "provenance": []
  },
  "kernelspec": {
   "display_name": "nlp_env",
   "language": "python",
   "name": "python3"
  },
  "language_info": {
   "codemirror_mode": {
    "name": "ipython",
    "version": 3
   },
   "file_extension": ".py",
   "mimetype": "text/x-python",
   "name": "python",
   "nbconvert_exporter": "python",
   "pygments_lexer": "ipython3",
   "version": "3.9.18"
  }
 },
 "nbformat": 4,
 "nbformat_minor": 0
}
